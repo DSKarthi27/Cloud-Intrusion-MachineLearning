{
 "cells": [
  {
   "cell_type": "code",
   "execution_count": 1,
   "metadata": {},
   "outputs": [],
   "source": [
    "import pandas as pd\n",
    "import numpy as np\n",
    "import sys\n",
    "import sklearn"
   ]
  },
  {
   "cell_type": "code",
   "execution_count": 2,
   "metadata": {},
   "outputs": [
    {
     "name": "stdout",
     "output_type": "stream",
     "text": [
      "Shape of the Training set: (125973, 42)\n",
      "Shape of the Test set: (22544, 42)\n"
     ]
    }
   ],
   "source": [
    "col_names = [\"duration\",\"protocol_type\",\"service\",\"flag\",\"src_bytes\",\n",
    "    \"dst_bytes\",\"land\",\"wrong_fragment\",\"urgent\",\"hot\",\"num_failed_logins\",\n",
    "    \"logged_in\",\"num_compromised\",\"root_shell\",\"su_attempted\",\"num_root\",\n",
    "    \"num_file_creations\",\"num_shells\",\"num_access_files\",\"num_outbound_cmds\",\n",
    "    \"is_host_login\",\"is_guest_login\",\"count\",\"srv_count\",\"serror_rate\",\n",
    "    \"srv_serror_rate\",\"rerror_rate\",\"srv_rerror_rate\",\"same_srv_rate\",\n",
    "    \"diff_srv_rate\",\"srv_diff_host_rate\",\"dst_host_count\",\"dst_host_srv_count\",\n",
    "    \"dst_host_same_srv_rate\",\"dst_host_diff_srv_rate\",\"dst_host_same_src_port_rate\",\n",
    "    \"dst_host_srv_diff_host_rate\",\"dst_host_serror_rate\",\"dst_host_srv_serror_rate\",\n",
    "    \"dst_host_rerror_rate\",\"dst_host_srv_rerror_rate\",\"label\"]\n",
    "\n",
    "df = pd.read_csv(\"KDDTrain+_2.csv\", header=None, names = col_names)\n",
    "df_test = pd.read_csv(\"KDDTest+_2.csv\", header=None, names = col_names)\n",
    "train='KDDTrain+_2.csv'\n",
    "test='KDDTest+_2.csv'\n",
    "\n",
    "print('Shape of the Training set:',df.shape)\n",
    "print('Shape of the Test set:',df_test.shape)"
   ]
  },
  {
   "cell_type": "code",
   "execution_count": 3,
   "metadata": {},
   "outputs": [
    {
     "data": {
      "text/html": [
       "<div>\n",
       "<style scoped>\n",
       "    .dataframe tbody tr th:only-of-type {\n",
       "        vertical-align: middle;\n",
       "    }\n",
       "\n",
       "    .dataframe tbody tr th {\n",
       "        vertical-align: top;\n",
       "    }\n",
       "\n",
       "    .dataframe thead th {\n",
       "        text-align: right;\n",
       "    }\n",
       "</style>\n",
       "<table border=\"1\" class=\"dataframe\">\n",
       "  <thead>\n",
       "    <tr style=\"text-align: right;\">\n",
       "      <th></th>\n",
       "      <th>duration</th>\n",
       "      <th>protocol_type</th>\n",
       "      <th>service</th>\n",
       "      <th>flag</th>\n",
       "      <th>src_bytes</th>\n",
       "      <th>dst_bytes</th>\n",
       "      <th>land</th>\n",
       "      <th>wrong_fragment</th>\n",
       "      <th>urgent</th>\n",
       "      <th>hot</th>\n",
       "      <th>...</th>\n",
       "      <th>dst_host_srv_count</th>\n",
       "      <th>dst_host_same_srv_rate</th>\n",
       "      <th>dst_host_diff_srv_rate</th>\n",
       "      <th>dst_host_same_src_port_rate</th>\n",
       "      <th>dst_host_srv_diff_host_rate</th>\n",
       "      <th>dst_host_serror_rate</th>\n",
       "      <th>dst_host_srv_serror_rate</th>\n",
       "      <th>dst_host_rerror_rate</th>\n",
       "      <th>dst_host_srv_rerror_rate</th>\n",
       "      <th>label</th>\n",
       "    </tr>\n",
       "  </thead>\n",
       "  <tbody>\n",
       "    <tr>\n",
       "      <th>0</th>\n",
       "      <td>0</td>\n",
       "      <td>tcp</td>\n",
       "      <td>ftp_data</td>\n",
       "      <td>SF</td>\n",
       "      <td>491</td>\n",
       "      <td>0</td>\n",
       "      <td>0</td>\n",
       "      <td>0</td>\n",
       "      <td>0</td>\n",
       "      <td>0</td>\n",
       "      <td>...</td>\n",
       "      <td>25</td>\n",
       "      <td>0.17</td>\n",
       "      <td>0.03</td>\n",
       "      <td>0.17</td>\n",
       "      <td>0.00</td>\n",
       "      <td>0.00</td>\n",
       "      <td>0.00</td>\n",
       "      <td>0.05</td>\n",
       "      <td>0.00</td>\n",
       "      <td>normal</td>\n",
       "    </tr>\n",
       "    <tr>\n",
       "      <th>1</th>\n",
       "      <td>0</td>\n",
       "      <td>udp</td>\n",
       "      <td>other</td>\n",
       "      <td>SF</td>\n",
       "      <td>146</td>\n",
       "      <td>0</td>\n",
       "      <td>0</td>\n",
       "      <td>0</td>\n",
       "      <td>0</td>\n",
       "      <td>0</td>\n",
       "      <td>...</td>\n",
       "      <td>1</td>\n",
       "      <td>0.00</td>\n",
       "      <td>0.60</td>\n",
       "      <td>0.88</td>\n",
       "      <td>0.00</td>\n",
       "      <td>0.00</td>\n",
       "      <td>0.00</td>\n",
       "      <td>0.00</td>\n",
       "      <td>0.00</td>\n",
       "      <td>normal</td>\n",
       "    </tr>\n",
       "    <tr>\n",
       "      <th>2</th>\n",
       "      <td>0</td>\n",
       "      <td>tcp</td>\n",
       "      <td>private</td>\n",
       "      <td>S0</td>\n",
       "      <td>0</td>\n",
       "      <td>0</td>\n",
       "      <td>0</td>\n",
       "      <td>0</td>\n",
       "      <td>0</td>\n",
       "      <td>0</td>\n",
       "      <td>...</td>\n",
       "      <td>26</td>\n",
       "      <td>0.10</td>\n",
       "      <td>0.05</td>\n",
       "      <td>0.00</td>\n",
       "      <td>0.00</td>\n",
       "      <td>1.00</td>\n",
       "      <td>1.00</td>\n",
       "      <td>0.00</td>\n",
       "      <td>0.00</td>\n",
       "      <td>neptune</td>\n",
       "    </tr>\n",
       "    <tr>\n",
       "      <th>3</th>\n",
       "      <td>0</td>\n",
       "      <td>tcp</td>\n",
       "      <td>http</td>\n",
       "      <td>SF</td>\n",
       "      <td>232</td>\n",
       "      <td>8153</td>\n",
       "      <td>0</td>\n",
       "      <td>0</td>\n",
       "      <td>0</td>\n",
       "      <td>0</td>\n",
       "      <td>...</td>\n",
       "      <td>255</td>\n",
       "      <td>1.00</td>\n",
       "      <td>0.00</td>\n",
       "      <td>0.03</td>\n",
       "      <td>0.04</td>\n",
       "      <td>0.03</td>\n",
       "      <td>0.01</td>\n",
       "      <td>0.00</td>\n",
       "      <td>0.01</td>\n",
       "      <td>normal</td>\n",
       "    </tr>\n",
       "    <tr>\n",
       "      <th>4</th>\n",
       "      <td>0</td>\n",
       "      <td>tcp</td>\n",
       "      <td>http</td>\n",
       "      <td>SF</td>\n",
       "      <td>199</td>\n",
       "      <td>420</td>\n",
       "      <td>0</td>\n",
       "      <td>0</td>\n",
       "      <td>0</td>\n",
       "      <td>0</td>\n",
       "      <td>...</td>\n",
       "      <td>255</td>\n",
       "      <td>1.00</td>\n",
       "      <td>0.00</td>\n",
       "      <td>0.00</td>\n",
       "      <td>0.00</td>\n",
       "      <td>0.00</td>\n",
       "      <td>0.00</td>\n",
       "      <td>0.00</td>\n",
       "      <td>0.00</td>\n",
       "      <td>normal</td>\n",
       "    </tr>\n",
       "  </tbody>\n",
       "</table>\n",
       "<p>5 rows × 42 columns</p>\n",
       "</div>"
      ],
      "text/plain": [
       "   duration protocol_type   service flag  src_bytes  dst_bytes  land  \\\n",
       "0         0           tcp  ftp_data   SF        491          0     0   \n",
       "1         0           udp     other   SF        146          0     0   \n",
       "2         0           tcp   private   S0          0          0     0   \n",
       "3         0           tcp      http   SF        232       8153     0   \n",
       "4         0           tcp      http   SF        199        420     0   \n",
       "\n",
       "   wrong_fragment  urgent  hot  ...  dst_host_srv_count  \\\n",
       "0               0       0    0  ...                  25   \n",
       "1               0       0    0  ...                   1   \n",
       "2               0       0    0  ...                  26   \n",
       "3               0       0    0  ...                 255   \n",
       "4               0       0    0  ...                 255   \n",
       "\n",
       "   dst_host_same_srv_rate  dst_host_diff_srv_rate  \\\n",
       "0                    0.17                    0.03   \n",
       "1                    0.00                    0.60   \n",
       "2                    0.10                    0.05   \n",
       "3                    1.00                    0.00   \n",
       "4                    1.00                    0.00   \n",
       "\n",
       "   dst_host_same_src_port_rate  dst_host_srv_diff_host_rate  \\\n",
       "0                         0.17                         0.00   \n",
       "1                         0.88                         0.00   \n",
       "2                         0.00                         0.00   \n",
       "3                         0.03                         0.04   \n",
       "4                         0.00                         0.00   \n",
       "\n",
       "   dst_host_serror_rate  dst_host_srv_serror_rate  dst_host_rerror_rate  \\\n",
       "0                  0.00                      0.00                  0.05   \n",
       "1                  0.00                      0.00                  0.00   \n",
       "2                  1.00                      1.00                  0.00   \n",
       "3                  0.03                      0.01                  0.00   \n",
       "4                  0.00                      0.00                  0.00   \n",
       "\n",
       "   dst_host_srv_rerror_rate    label  \n",
       "0                      0.00   normal  \n",
       "1                      0.00   normal  \n",
       "2                      0.00  neptune  \n",
       "3                      0.01   normal  \n",
       "4                      0.00   normal  \n",
       "\n",
       "[5 rows x 42 columns]"
      ]
     },
     "execution_count": 3,
     "metadata": {},
     "output_type": "execute_result"
    }
   ],
   "source": [
    "df.head(5)"
   ]
  },
  {
   "cell_type": "code",
   "execution_count": 4,
   "metadata": {},
   "outputs": [
    {
     "name": "stdout",
     "output_type": "stream",
     "text": [
      "Label - Training set:\n",
      "normal             67343\n",
      "neptune            41214\n",
      "satan               3633\n",
      "ipsweep             3599\n",
      "portsweep           2931\n",
      "smurf               2646\n",
      "nmap                1493\n",
      "back                 956\n",
      "teardrop             892\n",
      "warezclient          890\n",
      "pod                  201\n",
      "guess_passwd          53\n",
      "buffer_overflow       30\n",
      "warezmaster           20\n",
      "land                  18\n",
      "imap                  11\n",
      "rootkit               10\n",
      "loadmodule             9\n",
      "ftp_write              8\n",
      "multihop               7\n",
      "phf                    4\n",
      "perl                   3\n",
      "spy                    2\n",
      "Name: label, dtype: int64\n",
      "\n",
      "Label - Test set:\n",
      "normal             9711\n",
      "neptune            4657\n",
      "guess_passwd       1231\n",
      "mscan               996\n",
      "warezmaster         944\n",
      "apache2             737\n",
      "satan               735\n",
      "processtable        685\n",
      "smurf               665\n",
      "back                359\n",
      "snmpguess           331\n",
      "saint               319\n",
      "mailbomb            293\n",
      "snmpgetattack       178\n",
      "portsweep           157\n",
      "ipsweep             141\n",
      "httptunnel          133\n",
      "nmap                 73\n",
      "pod                  41\n",
      "buffer_overflow      20\n",
      "multihop             18\n",
      "named                17\n",
      "ps                   15\n",
      "sendmail             14\n",
      "rootkit              13\n",
      "xterm                13\n",
      "teardrop             12\n",
      "xlock                 9\n",
      "land                  7\n",
      "xsnoop                4\n",
      "ftp_write             3\n",
      "loadmodule            2\n",
      "sqlattack             2\n",
      "udpstorm              2\n",
      "perl                  2\n",
      "worm                  2\n",
      "phf                   2\n",
      "imap                  1\n",
      "Name: label, dtype: int64\n"
     ]
    }
   ],
   "source": [
    "print('Label - Training set:')\n",
    "print(df['label'].value_counts())\n",
    "print()\n",
    "print('Label - Test set:')\n",
    "print(df_test['label'].value_counts())"
   ]
  },
  {
   "cell_type": "code",
   "execution_count": 5,
   "metadata": {},
   "outputs": [
    {
     "name": "stdout",
     "output_type": "stream",
     "text": [
      "Training set:\n",
      "Feature 'protocol_type' has 3 categories\n",
      "Feature 'service' has 70 categories\n",
      "Feature 'flag' has 11 categories\n",
      "Feature 'label' has 23 categories\n",
      "\n",
      "Distribution of categories in service:\n",
      "http        40338\n",
      "private     21853\n",
      "domain_u     9043\n",
      "smtp         7313\n",
      "ftp_data     6860\n",
      "Name: service, dtype: int64\n"
     ]
    }
   ],
   "source": [
    "# colums that are categorical and not binary yet: protocol_type (column 2), service (column 3), flag (column 4).\n",
    "# explore categorical features\n",
    "print('Training set:')\n",
    "for col_name in df.columns:\n",
    "    if df[col_name].dtypes == 'object' :\n",
    "        unique_cat = len(df[col_name].unique())\n",
    "        print(\"Feature '{col_name}' has {unique_cat} categories\".format(col_name=col_name, unique_cat=unique_cat))\n",
    "\n",
    "#see how distributed the feature service is, it is evenly distributed and therefore we need to make dummies for all.\n",
    "print()\n",
    "print('Distribution of categories in service:')\n",
    "print(df['service'].value_counts().sort_values(ascending=False).head())"
   ]
  },
  {
   "cell_type": "code",
   "execution_count": 6,
   "metadata": {},
   "outputs": [
    {
     "name": "stdout",
     "output_type": "stream",
     "text": [
      "Test set:\n",
      "Feature 'protocol_type' has 3 categories\n",
      "Feature 'service' has 64 categories\n",
      "Feature 'flag' has 11 categories\n",
      "Feature 'label' has 38 categories\n"
     ]
    }
   ],
   "source": [
    "# Test set\n",
    "print('Test set:')\n",
    "for col_name in df_test.columns:\n",
    "    if df_test[col_name].dtypes == 'object' :\n",
    "        unique_cat = len(df_test[col_name].unique())\n",
    "        print(\"Feature '{col_name}' has {unique_cat} categories\".format(col_name=col_name, unique_cat=unique_cat))"
   ]
  },
  {
   "cell_type": "code",
   "execution_count": 7,
   "metadata": {},
   "outputs": [
    {
     "data": {
      "text/html": [
       "<div>\n",
       "<style scoped>\n",
       "    .dataframe tbody tr th:only-of-type {\n",
       "        vertical-align: middle;\n",
       "    }\n",
       "\n",
       "    .dataframe tbody tr th {\n",
       "        vertical-align: top;\n",
       "    }\n",
       "\n",
       "    .dataframe thead th {\n",
       "        text-align: right;\n",
       "    }\n",
       "</style>\n",
       "<table border=\"1\" class=\"dataframe\">\n",
       "  <thead>\n",
       "    <tr style=\"text-align: right;\">\n",
       "      <th></th>\n",
       "      <th>protocol_type</th>\n",
       "      <th>service</th>\n",
       "      <th>flag</th>\n",
       "    </tr>\n",
       "  </thead>\n",
       "  <tbody>\n",
       "    <tr>\n",
       "      <th>0</th>\n",
       "      <td>tcp</td>\n",
       "      <td>ftp_data</td>\n",
       "      <td>SF</td>\n",
       "    </tr>\n",
       "    <tr>\n",
       "      <th>1</th>\n",
       "      <td>udp</td>\n",
       "      <td>other</td>\n",
       "      <td>SF</td>\n",
       "    </tr>\n",
       "    <tr>\n",
       "      <th>2</th>\n",
       "      <td>tcp</td>\n",
       "      <td>private</td>\n",
       "      <td>S0</td>\n",
       "    </tr>\n",
       "    <tr>\n",
       "      <th>3</th>\n",
       "      <td>tcp</td>\n",
       "      <td>http</td>\n",
       "      <td>SF</td>\n",
       "    </tr>\n",
       "    <tr>\n",
       "      <th>4</th>\n",
       "      <td>tcp</td>\n",
       "      <td>http</td>\n",
       "      <td>SF</td>\n",
       "    </tr>\n",
       "  </tbody>\n",
       "</table>\n",
       "</div>"
      ],
      "text/plain": [
       "  protocol_type   service flag\n",
       "0           tcp  ftp_data   SF\n",
       "1           udp     other   SF\n",
       "2           tcp   private   S0\n",
       "3           tcp      http   SF\n",
       "4           tcp      http   SF"
      ]
     },
     "execution_count": 7,
     "metadata": {},
     "output_type": "execute_result"
    }
   ],
   "source": [
    "from sklearn.preprocessing import LabelEncoder,OneHotEncoder\n",
    "categorical_columns=['protocol_type', 'service', 'flag']\n",
    "# insert code to get a list of categorical columns into a variable, categorical_columns\n",
    "categorical_columns=['protocol_type', 'service', 'flag'] \n",
    " # Get the categorical values into a 2D numpy array\n",
    "df_categorical_values = df[categorical_columns]\n",
    "testdf_categorical_values = df_test[categorical_columns]\n",
    "df_categorical_values.head()"
   ]
  },
  {
   "cell_type": "code",
   "execution_count": 8,
   "metadata": {},
   "outputs": [
    {
     "name": "stdout",
     "output_type": "stream",
     "text": [
      "['Protocol_type_icmp', 'Protocol_type_tcp', 'Protocol_type_udp', 'service_IRC', 'service_X11', 'service_Z39_50', 'service_aol', 'service_auth', 'service_bgp', 'service_courier', 'service_csnet_ns', 'service_ctf', 'service_daytime', 'service_discard', 'service_domain', 'service_domain_u', 'service_echo', 'service_eco_i', 'service_ecr_i', 'service_efs', 'service_exec', 'service_finger', 'service_ftp', 'service_ftp_data', 'service_gopher', 'service_harvest', 'service_hostnames', 'service_http', 'service_http_2784', 'service_http_443', 'service_http_8001', 'service_imap4', 'service_iso_tsap', 'service_klogin', 'service_kshell', 'service_ldap', 'service_link', 'service_login', 'service_mtp', 'service_name', 'service_netbios_dgm', 'service_netbios_ns', 'service_netbios_ssn', 'service_netstat', 'service_nnsp', 'service_nntp', 'service_ntp_u', 'service_other', 'service_pm_dump', 'service_pop_2', 'service_pop_3', 'service_printer', 'service_private', 'service_red_i', 'service_remote_job', 'service_rje', 'service_shell', 'service_smtp', 'service_sql_net', 'service_ssh', 'service_sunrpc', 'service_supdup', 'service_systat', 'service_telnet', 'service_tftp_u', 'service_tim_i', 'service_time', 'service_urh_i', 'service_urp_i', 'service_uucp', 'service_uucp_path', 'service_vmnet', 'service_whois', 'flag_OTH', 'flag_REJ', 'flag_RSTO', 'flag_RSTOS0', 'flag_RSTR', 'flag_S0', 'flag_S1', 'flag_S2', 'flag_S3', 'flag_SF', 'flag_SH']\n"
     ]
    }
   ],
   "source": [
    "#Make column name as dummy\n",
    "# protocol type\n",
    "unique_protocol=sorted(df.protocol_type.unique())\n",
    "string1 = 'Protocol_type_'\n",
    "unique_protocol2=[string1 + x for x in unique_protocol]\n",
    "# service\n",
    "unique_service=sorted(df.service.unique())\n",
    "string2 = 'service_'\n",
    "unique_service2=[string2 + x for x in unique_service]\n",
    "# flag\n",
    "unique_flag=sorted(df.flag.unique())\n",
    "string3 = 'flag_'\n",
    "unique_flag2=[string3 + x for x in unique_flag]\n",
    "# put together\n",
    "dumcols=unique_protocol2 + unique_service2 + unique_flag2\n",
    "print(dumcols)\n",
    "\n",
    "#do same for test set\n",
    "unique_service_test=sorted(df_test.service.unique())\n",
    "unique_service2_test=[string2 + x for x in unique_service_test]\n",
    "testdumcols=unique_protocol2 + unique_service2_test + unique_flag2"
   ]
  },
  {
   "cell_type": "code",
   "execution_count": 9,
   "metadata": {},
   "outputs": [
    {
     "name": "stdout",
     "output_type": "stream",
     "text": [
      "   protocol_type  service  flag\n",
      "0              1       20     9\n",
      "1              2       44     9\n",
      "2              1       49     5\n",
      "3              1       24     9\n",
      "4              1       24     9\n"
     ]
    }
   ],
   "source": [
    "#Transform categorical features into numbers using LabelEncoder()\n",
    "df_categorical_values_enc=df_categorical_values.apply(LabelEncoder().fit_transform)\n",
    "print(df_categorical_values_enc.head())\n",
    "# test set\n",
    "testdf_categorical_values_enc=testdf_categorical_values.apply(LabelEncoder().fit_transform)"
   ]
  },
  {
   "cell_type": "code",
   "execution_count": 10,
   "metadata": {},
   "outputs": [
    {
     "data": {
      "text/html": [
       "<div>\n",
       "<style scoped>\n",
       "    .dataframe tbody tr th:only-of-type {\n",
       "        vertical-align: middle;\n",
       "    }\n",
       "\n",
       "    .dataframe tbody tr th {\n",
       "        vertical-align: top;\n",
       "    }\n",
       "\n",
       "    .dataframe thead th {\n",
       "        text-align: right;\n",
       "    }\n",
       "</style>\n",
       "<table border=\"1\" class=\"dataframe\">\n",
       "  <thead>\n",
       "    <tr style=\"text-align: right;\">\n",
       "      <th></th>\n",
       "      <th>Protocol_type_icmp</th>\n",
       "      <th>Protocol_type_tcp</th>\n",
       "      <th>Protocol_type_udp</th>\n",
       "      <th>service_IRC</th>\n",
       "      <th>service_X11</th>\n",
       "      <th>service_Z39_50</th>\n",
       "      <th>service_aol</th>\n",
       "      <th>service_auth</th>\n",
       "      <th>service_bgp</th>\n",
       "      <th>service_courier</th>\n",
       "      <th>...</th>\n",
       "      <th>flag_REJ</th>\n",
       "      <th>flag_RSTO</th>\n",
       "      <th>flag_RSTOS0</th>\n",
       "      <th>flag_RSTR</th>\n",
       "      <th>flag_S0</th>\n",
       "      <th>flag_S1</th>\n",
       "      <th>flag_S2</th>\n",
       "      <th>flag_S3</th>\n",
       "      <th>flag_SF</th>\n",
       "      <th>flag_SH</th>\n",
       "    </tr>\n",
       "  </thead>\n",
       "  <tbody>\n",
       "    <tr>\n",
       "      <th>0</th>\n",
       "      <td>0.0</td>\n",
       "      <td>1.0</td>\n",
       "      <td>0.0</td>\n",
       "      <td>0.0</td>\n",
       "      <td>0.0</td>\n",
       "      <td>0.0</td>\n",
       "      <td>0.0</td>\n",
       "      <td>0.0</td>\n",
       "      <td>0.0</td>\n",
       "      <td>0.0</td>\n",
       "      <td>...</td>\n",
       "      <td>0.0</td>\n",
       "      <td>0.0</td>\n",
       "      <td>0.0</td>\n",
       "      <td>0.0</td>\n",
       "      <td>0.0</td>\n",
       "      <td>0.0</td>\n",
       "      <td>0.0</td>\n",
       "      <td>0.0</td>\n",
       "      <td>1.0</td>\n",
       "      <td>0.0</td>\n",
       "    </tr>\n",
       "    <tr>\n",
       "      <th>1</th>\n",
       "      <td>0.0</td>\n",
       "      <td>0.0</td>\n",
       "      <td>1.0</td>\n",
       "      <td>0.0</td>\n",
       "      <td>0.0</td>\n",
       "      <td>0.0</td>\n",
       "      <td>0.0</td>\n",
       "      <td>0.0</td>\n",
       "      <td>0.0</td>\n",
       "      <td>0.0</td>\n",
       "      <td>...</td>\n",
       "      <td>0.0</td>\n",
       "      <td>0.0</td>\n",
       "      <td>0.0</td>\n",
       "      <td>0.0</td>\n",
       "      <td>0.0</td>\n",
       "      <td>0.0</td>\n",
       "      <td>0.0</td>\n",
       "      <td>0.0</td>\n",
       "      <td>1.0</td>\n",
       "      <td>0.0</td>\n",
       "    </tr>\n",
       "    <tr>\n",
       "      <th>2</th>\n",
       "      <td>0.0</td>\n",
       "      <td>1.0</td>\n",
       "      <td>0.0</td>\n",
       "      <td>0.0</td>\n",
       "      <td>0.0</td>\n",
       "      <td>0.0</td>\n",
       "      <td>0.0</td>\n",
       "      <td>0.0</td>\n",
       "      <td>0.0</td>\n",
       "      <td>0.0</td>\n",
       "      <td>...</td>\n",
       "      <td>0.0</td>\n",
       "      <td>0.0</td>\n",
       "      <td>0.0</td>\n",
       "      <td>0.0</td>\n",
       "      <td>1.0</td>\n",
       "      <td>0.0</td>\n",
       "      <td>0.0</td>\n",
       "      <td>0.0</td>\n",
       "      <td>0.0</td>\n",
       "      <td>0.0</td>\n",
       "    </tr>\n",
       "    <tr>\n",
       "      <th>3</th>\n",
       "      <td>0.0</td>\n",
       "      <td>1.0</td>\n",
       "      <td>0.0</td>\n",
       "      <td>0.0</td>\n",
       "      <td>0.0</td>\n",
       "      <td>0.0</td>\n",
       "      <td>0.0</td>\n",
       "      <td>0.0</td>\n",
       "      <td>0.0</td>\n",
       "      <td>0.0</td>\n",
       "      <td>...</td>\n",
       "      <td>0.0</td>\n",
       "      <td>0.0</td>\n",
       "      <td>0.0</td>\n",
       "      <td>0.0</td>\n",
       "      <td>0.0</td>\n",
       "      <td>0.0</td>\n",
       "      <td>0.0</td>\n",
       "      <td>0.0</td>\n",
       "      <td>1.0</td>\n",
       "      <td>0.0</td>\n",
       "    </tr>\n",
       "    <tr>\n",
       "      <th>4</th>\n",
       "      <td>0.0</td>\n",
       "      <td>1.0</td>\n",
       "      <td>0.0</td>\n",
       "      <td>0.0</td>\n",
       "      <td>0.0</td>\n",
       "      <td>0.0</td>\n",
       "      <td>0.0</td>\n",
       "      <td>0.0</td>\n",
       "      <td>0.0</td>\n",
       "      <td>0.0</td>\n",
       "      <td>...</td>\n",
       "      <td>0.0</td>\n",
       "      <td>0.0</td>\n",
       "      <td>0.0</td>\n",
       "      <td>0.0</td>\n",
       "      <td>0.0</td>\n",
       "      <td>0.0</td>\n",
       "      <td>0.0</td>\n",
       "      <td>0.0</td>\n",
       "      <td>1.0</td>\n",
       "      <td>0.0</td>\n",
       "    </tr>\n",
       "  </tbody>\n",
       "</table>\n",
       "<p>5 rows × 84 columns</p>\n",
       "</div>"
      ],
      "text/plain": [
       "   Protocol_type_icmp  Protocol_type_tcp  Protocol_type_udp  service_IRC  \\\n",
       "0                 0.0                1.0                0.0          0.0   \n",
       "1                 0.0                0.0                1.0          0.0   \n",
       "2                 0.0                1.0                0.0          0.0   \n",
       "3                 0.0                1.0                0.0          0.0   \n",
       "4                 0.0                1.0                0.0          0.0   \n",
       "\n",
       "   service_X11  service_Z39_50  service_aol  service_auth  service_bgp  \\\n",
       "0          0.0             0.0          0.0           0.0          0.0   \n",
       "1          0.0             0.0          0.0           0.0          0.0   \n",
       "2          0.0             0.0          0.0           0.0          0.0   \n",
       "3          0.0             0.0          0.0           0.0          0.0   \n",
       "4          0.0             0.0          0.0           0.0          0.0   \n",
       "\n",
       "   service_courier  ...  flag_REJ  flag_RSTO  flag_RSTOS0  flag_RSTR  flag_S0  \\\n",
       "0              0.0  ...       0.0        0.0          0.0        0.0      0.0   \n",
       "1              0.0  ...       0.0        0.0          0.0        0.0      0.0   \n",
       "2              0.0  ...       0.0        0.0          0.0        0.0      1.0   \n",
       "3              0.0  ...       0.0        0.0          0.0        0.0      0.0   \n",
       "4              0.0  ...       0.0        0.0          0.0        0.0      0.0   \n",
       "\n",
       "   flag_S1  flag_S2  flag_S3  flag_SF  flag_SH  \n",
       "0      0.0      0.0      0.0      1.0      0.0  \n",
       "1      0.0      0.0      0.0      1.0      0.0  \n",
       "2      0.0      0.0      0.0      0.0      0.0  \n",
       "3      0.0      0.0      0.0      1.0      0.0  \n",
       "4      0.0      0.0      0.0      1.0      0.0  \n",
       "\n",
       "[5 rows x 84 columns]"
      ]
     },
     "execution_count": 10,
     "metadata": {},
     "output_type": "execute_result"
    }
   ],
   "source": [
    "enc = OneHotEncoder()\n",
    "df_categorical_values_encenc = enc.fit_transform(df_categorical_values_enc)\n",
    "df_cat_data = pd.DataFrame(df_categorical_values_encenc.toarray(),columns=dumcols)\n",
    "# test set\n",
    "testdf_categorical_values_encenc = enc.fit_transform(testdf_categorical_values_enc)\n",
    "testdf_cat_data = pd.DataFrame(testdf_categorical_values_encenc.toarray(),columns=testdumcols)\n",
    "\n",
    "df_cat_data.head()"
   ]
  },
  {
   "cell_type": "code",
   "execution_count": 11,
   "metadata": {},
   "outputs": [
    {
     "data": {
      "text/plain": [
       "['service_red_i',\n",
       " 'service_aol',\n",
       " 'service_urh_i',\n",
       " 'service_http_2784',\n",
       " 'service_http_8001',\n",
       " 'service_harvest']"
      ]
     },
     "execution_count": 11,
     "metadata": {},
     "output_type": "execute_result"
    }
   ],
   "source": [
    "#Add 6 missing categories from train set to test set\n",
    "trainservice=df['service'].tolist()\n",
    "testservice= df_test['service'].tolist()\n",
    "difference=list(set(trainservice) - set(testservice))\n",
    "string = 'service_'\n",
    "difference=[string + x for x in difference]\n",
    "difference"
   ]
  },
  {
   "cell_type": "code",
   "execution_count": 12,
   "metadata": {},
   "outputs": [
    {
     "data": {
      "text/plain": [
       "(22544, 84)"
      ]
     },
     "execution_count": 12,
     "metadata": {},
     "output_type": "execute_result"
    }
   ],
   "source": [
    "for col in difference:\n",
    "    testdf_cat_data[col] = 0\n",
    "\n",
    "testdf_cat_data.shape"
   ]
  },
  {
   "cell_type": "code",
   "execution_count": 13,
   "metadata": {},
   "outputs": [
    {
     "name": "stdout",
     "output_type": "stream",
     "text": [
      "(125973, 123)\n",
      "(22544, 123)\n"
     ]
    }
   ],
   "source": [
    "#Join encoded categorical dataframe with the non-categorical dataframe\n",
    "newdf=df.join(df_cat_data)\n",
    "newdf.drop('flag', axis=1, inplace=True)\n",
    "newdf.drop('protocol_type', axis=1, inplace=True)\n",
    "newdf.drop('service', axis=1, inplace=True)\n",
    "# test data\n",
    "newdf_test=df_test.join(testdf_cat_data)\n",
    "newdf_test.drop('flag', axis=1, inplace=True)\n",
    "newdf_test.drop('protocol_type', axis=1, inplace=True)\n",
    "newdf_test.drop('service', axis=1, inplace=True)\n",
    "print(newdf.shape)\n",
    "print(newdf_test.shape)"
   ]
  },
  {
   "cell_type": "code",
   "execution_count": 14,
   "metadata": {},
   "outputs": [
    {
     "name": "stdout",
     "output_type": "stream",
     "text": [
      "0    0\n",
      "1    0\n",
      "2    1\n",
      "3    0\n",
      "4    0\n",
      "Name: label, dtype: int64\n"
     ]
    }
   ],
   "source": [
    "#Split Dataset into 4 datasets for every attack category\n",
    "#Rename every attack label: 0=normal, 1=DoS, 2=Probe, 3=R2L and 4=U2R\n",
    "labeldf=newdf['label']\n",
    "labeldf_test=newdf_test['label']\n",
    "# change the label column\n",
    "newlabeldf=labeldf.replace({ 'normal' : 0, 'neptune' : 1 ,'back': 1, 'land': 1, 'pod': 1, 'smurf': 1, 'teardrop': 1,'mailbomb': 1, 'apache2': 1, 'processtable': 1, 'udpstorm': 1, 'worm': 1,\n",
    "                           'ipsweep' : 2,'nmap' : 2,'portsweep' : 2,'satan' : 2,'mscan' : 2,'saint' : 2\n",
    "                           ,'ftp_write': 3,'guess_passwd': 3,'imap': 3,'multihop': 3,'phf': 3,'spy': 3,'warezclient': 3,'warezmaster': 3,'sendmail': 3,'named': 3,'snmpgetattack': 3,'snmpguess': 3,'xlock': 3,'xsnoop': 3,'httptunnel': 3,\n",
    "                           'buffer_overflow': 4,'loadmodule': 4,'perl': 4,'rootkit': 4,'ps': 4,'sqlattack': 4,'xterm': 4})\n",
    "newlabeldf_test=labeldf_test.replace({ 'normal' : 0, 'neptune' : 1 ,'back': 1, 'land': 1, 'pod': 1, 'smurf': 1, 'teardrop': 1,'mailbomb': 1, 'apache2': 1, 'processtable': 1, 'udpstorm': 1, 'worm': 1,\n",
    "                           'ipsweep' : 2,'nmap' : 2,'portsweep' : 2,'satan' : 2,'mscan' : 2,'saint' : 2\n",
    "                           ,'ftp_write': 3,'guess_passwd': 3,'imap': 3,'multihop': 3,'phf': 3,'spy': 3,'warezclient': 3,'warezmaster': 3,'sendmail': 3,'named': 3,'snmpgetattack': 3,'snmpguess': 3,'xlock': 3,'xsnoop': 3,'httptunnel': 3,\n",
    "                           'buffer_overflow': 4,'loadmodule': 4,'perl': 4,'rootkit': 4,'ps': 4,'sqlattack': 4,'xterm': 4})\n",
    "# put the new label column back\n",
    "newdf['label'] = newlabeldf\n",
    "newdf_test['label'] = newlabeldf_test\n",
    "print(newdf['label'].head())"
   ]
  },
  {
   "cell_type": "code",
   "execution_count": 15,
   "metadata": {},
   "outputs": [
    {
     "name": "stdout",
     "output_type": "stream",
     "text": [
      "Train:\n",
      "Dimensions of DoS: (113270, 123)\n",
      "Dimensions of Probe: (78999, 123)\n",
      "Dimensions of R2L: (68338, 123)\n",
      "Dimensions of U2R: (67395, 123)\n",
      "Test:\n",
      "Dimensions of DoS: (17171, 123)\n",
      "Dimensions of Probe: (12132, 123)\n",
      "Dimensions of R2L: (12596, 123)\n",
      "Dimensions of U2R: (9778, 123)\n"
     ]
    }
   ],
   "source": [
    "to_drop_DoS = [2,3,4]\n",
    "to_drop_Probe = [1,3,4]\n",
    "to_drop_R2L = [1,2,4]\n",
    "to_drop_U2R = [1,2,3]\n",
    "DoS_df=newdf[~newdf['label'].isin(to_drop_DoS)];\n",
    "Probe_df=newdf[~newdf['label'].isin(to_drop_Probe)];\n",
    "R2L_df=newdf[~newdf['label'].isin(to_drop_R2L)];\n",
    "U2R_df=newdf[~newdf['label'].isin(to_drop_U2R)];\n",
    "\n",
    "#test\n",
    "DoS_df_test=newdf_test[~newdf_test['label'].isin(to_drop_DoS)];\n",
    "Probe_df_test=newdf_test[~newdf_test['label'].isin(to_drop_Probe)];\n",
    "R2L_df_test=newdf_test[~newdf_test['label'].isin(to_drop_R2L)];\n",
    "U2R_df_test=newdf_test[~newdf_test['label'].isin(to_drop_U2R)];\n",
    "print('Train:')\n",
    "print('Dimensions of DoS:' ,DoS_df.shape)\n",
    "print('Dimensions of Probe:' ,Probe_df.shape)\n",
    "print('Dimensions of R2L:' ,R2L_df.shape)\n",
    "print('Dimensions of U2R:' ,U2R_df.shape)\n",
    "print('Test:')\n",
    "print('Dimensions of DoS:' ,DoS_df_test.shape)\n",
    "print('Dimensions of Probe:' ,Probe_df_test.shape)\n",
    "print('Dimensions of R2L:' ,R2L_df_test.shape)\n",
    "print('Dimensions of U2R:' ,U2R_df_test.shape)"
   ]
  },
  {
   "cell_type": "code",
   "execution_count": 16,
   "metadata": {},
   "outputs": [],
   "source": [
    "#Feature Scaling\n",
    "# Split dataframes into X & Y\n",
    "# assign X as a dataframe of feautures and Y as a series of outcome variables\n",
    "X_DoS = DoS_df.drop('label',1)\n",
    "Y_DoS = DoS_df.label\n",
    "X_Probe = Probe_df.drop('label',1)\n",
    "Y_Probe = Probe_df.label\n",
    "X_R2L = R2L_df.drop('label',1)\n",
    "Y_R2L = R2L_df.label\n",
    "X_U2R = U2R_df.drop('label',1)\n",
    "Y_U2R = U2R_df.label\n",
    "# test set\n",
    "X_DoS_test = DoS_df_test.drop('label',1)\n",
    "Y_DoS_test = DoS_df_test.label\n",
    "X_Probe_test = Probe_df_test.drop('label',1)\n",
    "Y_Probe_test = Probe_df_test.label\n",
    "X_R2L_test = R2L_df_test.drop('label',1)\n",
    "Y_R2L_test = R2L_df_test.label\n",
    "X_U2R_test = U2R_df_test.drop('label',1)\n",
    "Y_U2R_test = U2R_df_test.label"
   ]
  },
  {
   "cell_type": "code",
   "execution_count": 17,
   "metadata": {},
   "outputs": [],
   "source": [
    "colNames=list(X_DoS)\n",
    "colNames_test=list(X_DoS_test)"
   ]
  },
  {
   "cell_type": "code",
   "execution_count": 18,
   "metadata": {},
   "outputs": [],
   "source": [
    "#Scaling\n",
    "from sklearn import preprocessing\n",
    "scaler1 = preprocessing.StandardScaler().fit(X_DoS)\n",
    "X_DoS=scaler1.transform(X_DoS) \n",
    "scaler2 = preprocessing.StandardScaler().fit(X_Probe)\n",
    "X_Probe=scaler2.transform(X_Probe) \n",
    "scaler3 = preprocessing.StandardScaler().fit(X_R2L)\n",
    "X_R2L=scaler3.transform(X_R2L) \n",
    "scaler4 = preprocessing.StandardScaler().fit(X_U2R)\n",
    "X_U2R=scaler4.transform(X_U2R) \n",
    "# test data\n",
    "scaler5 = preprocessing.StandardScaler().fit(X_DoS_test)\n",
    "X_DoS_test=scaler5.transform(X_DoS_test) \n",
    "scaler6 = preprocessing.StandardScaler().fit(X_Probe_test)\n",
    "X_Probe_test=scaler6.transform(X_Probe_test) \n",
    "scaler7 = preprocessing.StandardScaler().fit(X_R2L_test)\n",
    "X_R2L_test=scaler7.transform(X_R2L_test) \n",
    "scaler8 = preprocessing.StandardScaler().fit(X_U2R_test)\n",
    "X_U2R_test=scaler8.transform(X_U2R_test) "
   ]
  },
  {
   "cell_type": "code",
   "execution_count": 19,
   "metadata": {},
   "outputs": [
    {
     "name": "stderr",
     "output_type": "stream",
     "text": [
      "C:\\Users\\ADMIN\\Anaconda3\\lib\\site-packages\\sklearn\\feature_selection\\_univariate_selection.py:114: UserWarning: Features [ 16  44  63  66  68  86 114] are constant.\n",
      "  warnings.warn(\"Features %s are constant.\" % constant_features_idx,\n"
     ]
    },
    {
     "data": {
      "text/plain": [
       "(113270, 13)"
      ]
     },
     "execution_count": 19,
     "metadata": {},
     "output_type": "execute_result"
    }
   ],
   "source": [
    "#Feature Selection\n",
    "#univariate feature selection with ANOVA F-test. using secondPercentile method, then RFE\n",
    "#Scikit-learn exposes feature selection routines as objects that implement the transform method\n",
    "#SelectPercentile: removes all but a user-specified highest scoring percentage of features\n",
    "#f_classif: ANOVA F-value between label/feature for classification tasks.\n",
    "from sklearn.feature_selection import SelectPercentile, f_classif\n",
    "np.seterr(divide='ignore', invalid='ignore');\n",
    "selector=SelectPercentile(f_classif, percentile=10)\n",
    "X_newDoS = selector.fit_transform(X_DoS,Y_DoS)\n",
    "X_newDoS.shape"
   ]
  },
  {
   "cell_type": "code",
   "execution_count": 20,
   "metadata": {},
   "outputs": [
    {
     "data": {
      "text/plain": [
       "['logged_in',\n",
       " 'count',\n",
       " 'serror_rate',\n",
       " 'srv_serror_rate',\n",
       " 'same_srv_rate',\n",
       " 'dst_host_count',\n",
       " 'dst_host_srv_count',\n",
       " 'dst_host_same_srv_rate',\n",
       " 'dst_host_serror_rate',\n",
       " 'dst_host_srv_serror_rate',\n",
       " 'service_http',\n",
       " 'flag_S0',\n",
       " 'flag_SF']"
      ]
     },
     "execution_count": 20,
     "metadata": {},
     "output_type": "execute_result"
    }
   ],
   "source": [
    "#Get the features that were selected: DoS\n",
    "true=selector.get_support()\n",
    "newcolindex_DoS=[i for i, x in enumerate(true) if x]\n",
    "newcolname_DoS=list( colNames[i] for i in newcolindex_DoS )\n",
    "newcolname_DoS"
   ]
  },
  {
   "cell_type": "code",
   "execution_count": 21,
   "metadata": {},
   "outputs": [
    {
     "name": "stderr",
     "output_type": "stream",
     "text": [
      "C:\\Users\\ADMIN\\Anaconda3\\lib\\site-packages\\sklearn\\feature_selection\\_univariate_selection.py:114: UserWarning: Features [ 4 16] are constant.\n",
      "  warnings.warn(\"Features %s are constant.\" % constant_features_idx,\n"
     ]
    },
    {
     "data": {
      "text/plain": [
       "(78999, 13)"
      ]
     },
     "execution_count": 21,
     "metadata": {},
     "output_type": "execute_result"
    }
   ],
   "source": [
    "X_newProbe = selector.fit_transform(X_Probe,Y_Probe)\n",
    "X_newProbe.shape"
   ]
  },
  {
   "cell_type": "code",
   "execution_count": 22,
   "metadata": {},
   "outputs": [
    {
     "data": {
      "text/plain": [
       "['logged_in',\n",
       " 'rerror_rate',\n",
       " 'srv_rerror_rate',\n",
       " 'dst_host_srv_count',\n",
       " 'dst_host_diff_srv_rate',\n",
       " 'dst_host_same_src_port_rate',\n",
       " 'dst_host_srv_diff_host_rate',\n",
       " 'dst_host_rerror_rate',\n",
       " 'dst_host_srv_rerror_rate',\n",
       " 'Protocol_type_icmp',\n",
       " 'service_eco_i',\n",
       " 'service_private',\n",
       " 'flag_SF']"
      ]
     },
     "execution_count": 22,
     "metadata": {},
     "output_type": "execute_result"
    }
   ],
   "source": [
    "#Get the features that were selected: Probe\n",
    "true=selector.get_support()\n",
    "newcolindex_Probe=[i for i, x in enumerate(true) if x]\n",
    "newcolname_Probe=list( colNames[i] for i in newcolindex_Probe )\n",
    "newcolname_Probe"
   ]
  },
  {
   "cell_type": "code",
   "execution_count": 23,
   "metadata": {},
   "outputs": [
    {
     "name": "stderr",
     "output_type": "stream",
     "text": [
      "C:\\Users\\ADMIN\\Anaconda3\\lib\\site-packages\\sklearn\\feature_selection\\_univariate_selection.py:114: UserWarning: Features [  4  16  43  44  46  47  48  49  50  51  54  57  58  62  63  64  66  67\n",
      "  68  70  71  72  73  74  76  77  78  79  80  81  82  83  86  87  89  92\n",
      "  93  96  98  99 100 107 108 109 110 114] are constant.\n",
      "  warnings.warn(\"Features %s are constant.\" % constant_features_idx,\n"
     ]
    },
    {
     "data": {
      "text/plain": [
       "(68338, 13)"
      ]
     },
     "execution_count": 23,
     "metadata": {},
     "output_type": "execute_result"
    }
   ],
   "source": [
    "X_newR2L = selector.fit_transform(X_R2L,Y_R2L)\n",
    "X_newR2L.shape"
   ]
  },
  {
   "cell_type": "code",
   "execution_count": 24,
   "metadata": {},
   "outputs": [
    {
     "data": {
      "text/plain": [
       "['src_bytes',\n",
       " 'dst_bytes',\n",
       " 'hot',\n",
       " 'num_failed_logins',\n",
       " 'is_guest_login',\n",
       " 'dst_host_srv_count',\n",
       " 'dst_host_same_src_port_rate',\n",
       " 'dst_host_srv_diff_host_rate',\n",
       " 'service_ftp',\n",
       " 'service_ftp_data',\n",
       " 'service_http',\n",
       " 'service_imap4',\n",
       " 'flag_RSTO']"
      ]
     },
     "execution_count": 24,
     "metadata": {},
     "output_type": "execute_result"
    }
   ],
   "source": [
    "#Get the features that were selected: R2L\n",
    "true=selector.get_support()\n",
    "newcolindex_R2L=[i for i, x in enumerate(true) if x]\n",
    "newcolname_R2L=list( colNames[i] for i in newcolindex_R2L)\n",
    "newcolname_R2L"
   ]
  },
  {
   "cell_type": "code",
   "execution_count": 25,
   "metadata": {},
   "outputs": [
    {
     "name": "stderr",
     "output_type": "stream",
     "text": [
      "C:\\Users\\ADMIN\\Anaconda3\\lib\\site-packages\\sklearn\\feature_selection\\_univariate_selection.py:114: UserWarning: Features [  4  16  43  44  46  47  48  49  50  51  54  57  58  62  63  64  66  67\n",
      "  68  70  71  72  73  74  75  76  77  78  79  80  81  82  83  86  87  89\n",
      "  92  93  96  98  99 100 107 108 109 110 114] are constant.\n",
      "  warnings.warn(\"Features %s are constant.\" % constant_features_idx,\n"
     ]
    },
    {
     "data": {
      "text/plain": [
       "(67395, 13)"
      ]
     },
     "execution_count": 25,
     "metadata": {},
     "output_type": "execute_result"
    }
   ],
   "source": [
    "X_newU2R = selector.fit_transform(X_U2R,Y_U2R)\n",
    "X_newU2R.shape"
   ]
  },
  {
   "cell_type": "code",
   "execution_count": 26,
   "metadata": {},
   "outputs": [
    {
     "data": {
      "text/plain": [
       "['urgent',\n",
       " 'hot',\n",
       " 'root_shell',\n",
       " 'num_file_creations',\n",
       " 'num_shells',\n",
       " 'srv_diff_host_rate',\n",
       " 'dst_host_count',\n",
       " 'dst_host_srv_count',\n",
       " 'dst_host_same_src_port_rate',\n",
       " 'dst_host_srv_diff_host_rate',\n",
       " 'service_ftp_data',\n",
       " 'service_http',\n",
       " 'service_telnet']"
      ]
     },
     "execution_count": 26,
     "metadata": {},
     "output_type": "execute_result"
    }
   ],
   "source": [
    "#Get the features that were selected: U2R\n",
    "true=selector.get_support()\n",
    "newcolindex_U2R=[i for i, x in enumerate(true) if x]\n",
    "newcolname_U2R=list( colNames[i] for i in newcolindex_U2R)\n",
    "newcolname_U2R"
   ]
  },
  {
   "cell_type": "code",
   "execution_count": 27,
   "metadata": {},
   "outputs": [
    {
     "name": "stdout",
     "output_type": "stream",
     "text": [
      "Features selected for DoS: ['logged_in', 'count', 'serror_rate', 'srv_serror_rate', 'same_srv_rate', 'dst_host_count', 'dst_host_srv_count', 'dst_host_same_srv_rate', 'dst_host_serror_rate', 'dst_host_srv_serror_rate', 'service_http', 'flag_S0', 'flag_SF']\n",
      "\n",
      "Features selected for Probe: ['logged_in', 'rerror_rate', 'srv_rerror_rate', 'dst_host_srv_count', 'dst_host_diff_srv_rate', 'dst_host_same_src_port_rate', 'dst_host_srv_diff_host_rate', 'dst_host_rerror_rate', 'dst_host_srv_rerror_rate', 'Protocol_type_icmp', 'service_eco_i', 'service_private', 'flag_SF']\n",
      "\n",
      "Features selected for R2L: ['src_bytes', 'dst_bytes', 'hot', 'num_failed_logins', 'is_guest_login', 'dst_host_srv_count', 'dst_host_same_src_port_rate', 'dst_host_srv_diff_host_rate', 'service_ftp', 'service_ftp_data', 'service_http', 'service_imap4', 'flag_RSTO']\n",
      "\n",
      "Features selected for U2R: ['urgent', 'hot', 'root_shell', 'num_file_creations', 'num_shells', 'srv_diff_host_rate', 'dst_host_count', 'dst_host_srv_count', 'dst_host_same_src_port_rate', 'dst_host_srv_diff_host_rate', 'service_ftp_data', 'service_http', 'service_telnet']\n"
     ]
    }
   ],
   "source": [
    "#features selected by Univariate Feature Selection\n",
    "print('Features selected for DoS:',newcolname_DoS)\n",
    "print()\n",
    "print('Features selected for Probe:',newcolname_Probe)\n",
    "print()\n",
    "print('Features selected for R2L:',newcolname_R2L)\n",
    "print()\n",
    "print('Features selected for U2R:',newcolname_U2R)"
   ]
  },
  {
   "cell_type": "code",
   "execution_count": 28,
   "metadata": {},
   "outputs": [
    {
     "name": "stdout",
     "output_type": "stream",
     "text": [
      "DoS Features sorted by their rank:\n",
      "[(1, 'same_srv_rate'), (2, 'count'), (3, 'flag_SF'), (4, 'dst_host_serror_rate'), (5, 'dst_host_same_srv_rate'), (6, 'dst_host_srv_count'), (7, 'dst_host_count'), (8, 'logged_in'), (9, 'serror_rate'), (10, 'dst_host_srv_serror_rate'), (11, 'srv_serror_rate'), (12, 'service_http'), (13, 'flag_S0')]\n"
     ]
    }
   ],
   "source": [
    "from sklearn.feature_selection import RFE\n",
    "from sklearn.tree import DecisionTreeClassifier\n",
    "# Create a decision tree classifier. By convention, clf means 'classifier'\n",
    "clf = DecisionTreeClassifier(random_state=0)\n",
    "\n",
    "#rank all features, i.e continue the elimination until the last one\n",
    "rfe = RFE(clf, n_features_to_select=1)\n",
    "rfe.fit(X_newDoS, Y_DoS)\n",
    "print (\"DoS Features sorted by their rank:\")\n",
    "print (sorted(zip(map(lambda x: round(x, 4), rfe.ranking_), newcolname_DoS)))"
   ]
  },
  {
   "cell_type": "code",
   "execution_count": 29,
   "metadata": {},
   "outputs": [
    {
     "name": "stdout",
     "output_type": "stream",
     "text": [
      "Probe Features sorted by their rank:\n",
      "[(1, 'dst_host_same_src_port_rate'), (2, 'dst_host_srv_count'), (3, 'dst_host_rerror_rate'), (4, 'service_private'), (5, 'logged_in'), (6, 'dst_host_diff_srv_rate'), (7, 'dst_host_srv_diff_host_rate'), (8, 'flag_SF'), (9, 'service_eco_i'), (10, 'rerror_rate'), (11, 'Protocol_type_icmp'), (12, 'dst_host_srv_rerror_rate'), (13, 'srv_rerror_rate')]\n"
     ]
    }
   ],
   "source": [
    "rfe.fit(X_newProbe, Y_Probe)\n",
    "print (\"Probe Features sorted by their rank:\")\n",
    "print (sorted(zip(map(lambda x: round(x, 4), rfe.ranking_), newcolname_Probe)))"
   ]
  },
  {
   "cell_type": "code",
   "execution_count": 30,
   "metadata": {},
   "outputs": [
    {
     "name": "stdout",
     "output_type": "stream",
     "text": [
      "R2L Features sorted by their rank:\n",
      "[(1, 'src_bytes'), (2, 'dst_bytes'), (3, 'hot'), (4, 'dst_host_srv_diff_host_rate'), (5, 'service_ftp_data'), (6, 'dst_host_same_src_port_rate'), (7, 'dst_host_srv_count'), (8, 'num_failed_logins'), (9, 'service_imap4'), (10, 'is_guest_login'), (11, 'service_ftp'), (12, 'flag_RSTO'), (13, 'service_http')]\n"
     ]
    }
   ],
   "source": [
    "rfe.fit(X_newR2L, Y_R2L)\n",
    " \n",
    "print (\"R2L Features sorted by their rank:\")\n",
    "print (sorted(zip(map(lambda x: round(x, 4), rfe.ranking_), newcolname_R2L)))"
   ]
  },
  {
   "cell_type": "code",
   "execution_count": 31,
   "metadata": {},
   "outputs": [
    {
     "name": "stdout",
     "output_type": "stream",
     "text": [
      "U2R Features sorted by their rank:\n",
      "[(1, 'hot'), (2, 'dst_host_srv_count'), (3, 'dst_host_count'), (4, 'root_shell'), (5, 'num_shells'), (6, 'service_ftp_data'), (7, 'dst_host_srv_diff_host_rate'), (8, 'num_file_creations'), (9, 'dst_host_same_src_port_rate'), (10, 'service_telnet'), (11, 'srv_diff_host_rate'), (12, 'service_http'), (13, 'urgent')]\n"
     ]
    }
   ],
   "source": [
    "rfe.fit(X_newU2R, Y_U2R)\n",
    " \n",
    "print (\"U2R Features sorted by their rank:\")\n",
    "print (sorted(zip(map(lambda x: round(x, 4), rfe.ranking_), newcolname_U2R)))"
   ]
  },
  {
   "cell_type": "code",
   "execution_count": 32,
   "metadata": {},
   "outputs": [],
   "source": [
    "#Feature Elimination 13 from 122\n",
    "from sklearn.feature_selection import RFE\n",
    "clf = DecisionTreeClassifier(random_state=0)\n",
    "rfe = RFE(estimator=clf, n_features_to_select=13, step=1)\n",
    "rfe.fit(X_DoS, Y_DoS)\n",
    "X_rfeDoS=rfe.transform(X_DoS)\n",
    "true=rfe.support_\n",
    "rfecolindex_DoS=[i for i, x in enumerate(true) if x]\n",
    "rfecolname_DoS=list(colNames[i] for i in rfecolindex_DoS)"
   ]
  },
  {
   "cell_type": "code",
   "execution_count": 33,
   "metadata": {},
   "outputs": [],
   "source": [
    "rfe.fit(X_Probe, Y_Probe)\n",
    "X_rfeProbe=rfe.transform(X_Probe)\n",
    "true=rfe.support_\n",
    "rfecolindex_Probe=[i for i, x in enumerate(true) if x]\n",
    "rfecolname_Probe=list(colNames[i] for i in rfecolindex_Probe)"
   ]
  },
  {
   "cell_type": "code",
   "execution_count": 34,
   "metadata": {},
   "outputs": [],
   "source": [
    "rfe.fit(X_R2L, Y_R2L)\n",
    "X_rfeR2L=rfe.transform(X_R2L)\n",
    "true=rfe.support_\n",
    "rfecolindex_R2L=[i for i, x in enumerate(true) if x]\n",
    "rfecolname_R2L=list(colNames[i] for i in rfecolindex_R2L)"
   ]
  },
  {
   "cell_type": "code",
   "execution_count": 35,
   "metadata": {},
   "outputs": [],
   "source": [
    "rfe.fit(X_U2R, Y_U2R)\n",
    "X_rfeU2R=rfe.transform(X_U2R)\n",
    "true=rfe.support_\n",
    "rfecolindex_U2R=[i for i, x in enumerate(true) if x]\n",
    "rfecolname_U2R=list(colNames[i] for i in rfecolindex_U2R)"
   ]
  },
  {
   "cell_type": "code",
   "execution_count": 36,
   "metadata": {},
   "outputs": [],
   "source": [
    "from keras.models import Sequential\n",
    "from keras.layers import Dense, LSTM, Dropout, SimpleRNN , GRU , Activation\n",
    "from tensorflow.keras.layers import (\n",
    "    BatchNormalization, SeparableConv2D, MaxPooling2D, Activation, Flatten, Dropout, Dense\n",
    ")\n",
    "from keras import optimizers\n",
    "import tensorflow as tf\n",
    "from keras.layers import Convolution1D, Dense, Dropout, Flatten, MaxPooling1D , AveragePooling1D\n",
    "from sklearn.preprocessing import (StandardScaler, OrdinalEncoder,LabelEncoder, MinMaxScaler, OneHotEncoder)\n",
    "from sklearn.preprocessing import Normalizer, MaxAbsScaler , RobustScaler, PowerTransformer"
   ]
  },
  {
   "cell_type": "code",
   "execution_count": 37,
   "metadata": {},
   "outputs": [],
   "source": [
    "X_rfeDoS = np.reshape(X_rfeDoS, (X_rfeDoS.shape[0], X_rfeDoS.shape[1], 1))"
   ]
  },
  {
   "cell_type": "code",
   "execution_count": 38,
   "metadata": {},
   "outputs": [],
   "source": [
    "model = Sequential()\n",
    "\n",
    "model.add(Convolution1D(32, 3, padding=\"same\",activation=\"relu\",input_shape = (X_rfeDoS.shape[1], 1)))\n",
    "# model.add(Convolution1D(32, 3, activation=\"relu\"))\n",
    "model.add(MaxPooling1D(pool_size=(4)))\n",
    "# model.add(tf.keras.layers.LayerNormalization())\n",
    "# model.add(GRU(units = 128, return_sequences=True, input_shape = (x_train.shape[1], 1)))\n",
    "model.add(Dropout(0.5))\n",
    "\n",
    "model.add(Convolution1D(64, 3, padding=\"same\",activation=\"relu\"))\n",
    "# model.add(Convolution1D(64, 3,activation=\"relu\"))\n",
    "model.add(MaxPooling1D(pool_size=(2)))\n",
    "model.add(Dropout(0.5))\n",
    "# model.add(tf.keras.layers.LayerNormalization())\n",
    "\n",
    "# model.add(Convolution1D(64, 3, padding=\"same\",activation=\"relu\"))\n",
    "# model.add(Convolution1D(64, 3,activation=\"relu\"))\n",
    "# model.add(AveragePooling1D(pool_size=(2)))\n",
    "# model.add(Dropout(0.2))\n",
    "\n",
    "model.add(Flatten())\n",
    "model.add(Dense(256, activation=\"relu\"))\n",
    "model.add(Dropout(0.5))\n",
    "model.add(Dense(2, activation=\"softmax\"))"
   ]
  },
  {
   "cell_type": "code",
   "execution_count": 39,
   "metadata": {},
   "outputs": [],
   "source": [
    "from sklearn.model_selection import cross_validate\n",
    "from sklearn.model_selection import train_test_split"
   ]
  },
  {
   "cell_type": "code",
   "execution_count": 40,
   "metadata": {},
   "outputs": [
    {
     "name": "stdout",
     "output_type": "stream",
     "text": [
      "Epoch 1/100\n",
      "885/885 [==============================] - 8s 8ms/step - loss: 0.1568 - accuracy: 0.9578\n",
      "Epoch 2/100\n",
      "885/885 [==============================] - 7s 8ms/step - loss: 0.0938 - accuracy: 0.9759\n",
      "Epoch 3/100\n",
      "885/885 [==============================] - 7s 8ms/step - loss: 0.0829 - accuracy: 0.9784\n",
      "Epoch 4/100\n",
      "885/885 [==============================] - 6s 7ms/step - loss: 0.0777 - accuracy: 0.9794\n",
      "Epoch 5/100\n",
      "885/885 [==============================] - 7s 8ms/step - loss: 0.0706 - accuracy: 0.9803\n",
      "Epoch 6/100\n",
      "885/885 [==============================] - 6s 7ms/step - loss: 0.0652 - accuracy: 0.9811\n",
      "Epoch 7/100\n",
      "885/885 [==============================] - 7s 7ms/step - loss: 0.0620 - accuracy: 0.9819: 0s - loss: 0.0\n",
      "Epoch 8/100\n",
      "885/885 [==============================] - 7s 8ms/step - loss: 0.0569 - accuracy: 0.9825\n",
      "Epoch 9/100\n",
      "885/885 [==============================] - 6s 7ms/step - loss: 0.0559 - accuracy: 0.9827\n",
      "Epoch 10/100\n",
      "885/885 [==============================] - 7s 7ms/step - loss: 0.0543 - accuracy: 0.9832\n",
      "Epoch 11/100\n",
      "885/885 [==============================] - 6s 7ms/step - loss: 0.0515 - accuracy: 0.9835\n",
      "Epoch 12/100\n",
      "885/885 [==============================] - 6s 7ms/step - loss: 0.0505 - accuracy: 0.9836\n",
      "Epoch 13/100\n",
      "885/885 [==============================] - 7s 7ms/step - loss: 0.0508 - accuracy: 0.9838\n",
      "Epoch 14/100\n",
      "885/885 [==============================] - 6s 7ms/step - loss: 0.0504 - accuracy: 0.9841\n",
      "Epoch 15/100\n",
      "885/885 [==============================] - 7s 7ms/step - loss: 0.0480 - accuracy: 0.9841\n",
      "Epoch 16/100\n",
      "885/885 [==============================] - 6s 7ms/step - loss: 0.0479 - accuracy: 0.9837\n",
      "Epoch 17/100\n",
      "885/885 [==============================] - 6s 7ms/step - loss: 0.0463 - accuracy: 0.9843\n",
      "Epoch 18/100\n",
      "885/885 [==============================] - 7s 8ms/step - loss: 0.0479 - accuracy: 0.9844\n",
      "Epoch 19/100\n",
      "885/885 [==============================] - 6s 7ms/step - loss: 0.0459 - accuracy: 0.9848\n",
      "Epoch 20/100\n",
      "885/885 [==============================] - 7s 8ms/step - loss: 0.0444 - accuracy: 0.9851\n",
      "Epoch 21/100\n",
      "885/885 [==============================] - 6s 7ms/step - loss: 0.0447 - accuracy: 0.9854\n",
      "Epoch 22/100\n",
      "885/885 [==============================] - 6s 7ms/step - loss: 0.0429 - accuracy: 0.9859\n",
      "Epoch 23/100\n",
      "885/885 [==============================] - 7s 7ms/step - loss: 0.0425 - accuracy: 0.9861\n",
      "Epoch 24/100\n",
      "885/885 [==============================] - 6s 7ms/step - loss: 0.0421 - accuracy: 0.9867\n",
      "Epoch 25/100\n",
      "885/885 [==============================] - 7s 7ms/step - loss: 0.0412 - accuracy: 0.9872\n",
      "Epoch 26/100\n",
      "885/885 [==============================] - 6s 7ms/step - loss: 0.0397 - accuracy: 0.9875\n",
      "Epoch 27/100\n",
      "885/885 [==============================] - 6s 7ms/step - loss: 0.0409 - accuracy: 0.9879\n",
      "Epoch 28/100\n",
      "885/885 [==============================] - 7s 7ms/step - loss: 0.0393 - accuracy: 0.9879\n",
      "Epoch 29/100\n",
      "885/885 [==============================] - 6s 7ms/step - loss: 0.0385 - accuracy: 0.9884\n",
      "Epoch 30/100\n",
      "885/885 [==============================] - 7s 7ms/step - loss: 0.0387 - accuracy: 0.9883\n",
      "Epoch 31/100\n",
      "885/885 [==============================] - 6s 7ms/step - loss: 0.0372 - accuracy: 0.9888\n",
      "Epoch 32/100\n",
      "885/885 [==============================] - 6s 7ms/step - loss: 0.0378 - accuracy: 0.9890\n",
      "Epoch 33/100\n",
      "885/885 [==============================] - 7s 7ms/step - loss: 0.0376 - accuracy: 0.9894\n",
      "Epoch 34/100\n",
      "885/885 [==============================] - 6s 7ms/step - loss: 0.0392 - accuracy: 0.9887\n",
      "Epoch 35/100\n",
      "885/885 [==============================] - 7s 7ms/step - loss: 0.0380 - accuracy: 0.9889\n",
      "Epoch 36/100\n",
      "885/885 [==============================] - 6s 7ms/step - loss: 0.0375 - accuracy: 0.9889\n",
      "Epoch 37/100\n",
      "885/885 [==============================] - 6s 7ms/step - loss: 0.0371 - accuracy: 0.9888\n",
      "Epoch 38/100\n",
      "885/885 [==============================] - 7s 7ms/step - loss: 0.0378 - accuracy: 0.9890\n",
      "Epoch 39/100\n",
      "885/885 [==============================] - 6s 7ms/step - loss: 0.0388 - accuracy: 0.9890\n",
      "Epoch 40/100\n",
      "885/885 [==============================] - 7s 8ms/step - loss: 0.0384 - accuracy: 0.9890\n",
      "Epoch 41/100\n",
      "885/885 [==============================] - 6s 7ms/step - loss: 0.0360 - accuracy: 0.9895\n",
      "Epoch 42/100\n",
      "885/885 [==============================] - 6s 7ms/step - loss: 0.0365 - accuracy: 0.9896\n",
      "Epoch 43/100\n",
      "885/885 [==============================] - 7s 8ms/step - loss: 0.0359 - accuracy: 0.9897\n",
      "Epoch 44/100\n",
      "885/885 [==============================] - 6s 7ms/step - loss: 0.0358 - accuracy: 0.9894\n",
      "Epoch 45/100\n",
      "885/885 [==============================] - 7s 8ms/step - loss: 0.0349 - accuracy: 0.9898\n",
      "Epoch 46/100\n",
      "885/885 [==============================] - 6s 7ms/step - loss: 0.0361 - accuracy: 0.9894\n",
      "Epoch 47/100\n",
      "885/885 [==============================] - 6s 7ms/step - loss: 0.0351 - accuracy: 0.9898\n",
      "Epoch 48/100\n",
      "885/885 [==============================] - 7s 7ms/step - loss: 0.0360 - accuracy: 0.9898\n",
      "Epoch 49/100\n",
      "885/885 [==============================] - 6s 7ms/step - loss: 0.0355 - accuracy: 0.9900\n",
      "Epoch 50/100\n",
      "885/885 [==============================] - 7s 8ms/step - loss: 0.0374 - accuracy: 0.9897\n",
      "Epoch 51/100\n",
      "885/885 [==============================] - 6s 7ms/step - loss: 0.0358 - accuracy: 0.9896\n",
      "Epoch 52/100\n",
      "885/885 [==============================] - 6s 7ms/step - loss: 0.0341 - accuracy: 0.9904\n",
      "Epoch 53/100\n",
      "885/885 [==============================] - 7s 7ms/step - loss: 0.0342 - accuracy: 0.9902\n",
      "Epoch 54/100\n",
      "885/885 [==============================] - 6s 7ms/step - loss: 0.0352 - accuracy: 0.9901\n",
      "Epoch 55/100\n",
      "885/885 [==============================] - 7s 8ms/step - loss: 0.0352 - accuracy: 0.9898\n",
      "Epoch 56/100\n",
      "885/885 [==============================] - 6s 7ms/step - loss: 0.0348 - accuracy: 0.9901\n",
      "Epoch 57/100\n",
      "885/885 [==============================] - 6s 7ms/step - loss: 0.0359 - accuracy: 0.9900\n",
      "Epoch 58/100\n",
      "885/885 [==============================] - 6s 7ms/step - loss: 0.0351 - accuracy: 0.9904\n",
      "Epoch 59/100\n",
      "885/885 [==============================] - 6s 7ms/step - loss: 0.0348 - accuracy: 0.9902\n",
      "Epoch 60/100\n",
      "885/885 [==============================] - 7s 8ms/step - loss: 0.0352 - accuracy: 0.9899\n",
      "Epoch 61/100\n",
      "885/885 [==============================] - 6s 7ms/step - loss: 0.0337 - accuracy: 0.9904\n",
      "Epoch 62/100\n",
      "885/885 [==============================] - 7s 7ms/step - loss: 0.0339 - accuracy: 0.9903\n",
      "Epoch 63/100\n",
      "885/885 [==============================] - 6s 7ms/step - loss: 0.0341 - accuracy: 0.9906\n",
      "Epoch 64/100\n",
      "885/885 [==============================] - 6s 7ms/step - loss: 0.0341 - accuracy: 0.9903\n",
      "Epoch 65/100\n",
      "885/885 [==============================] - 7s 8ms/step - loss: 0.0346 - accuracy: 0.9904\n",
      "Epoch 66/100\n",
      "885/885 [==============================] - 6s 7ms/step - loss: 0.0360 - accuracy: 0.9903\n",
      "Epoch 67/100\n",
      "885/885 [==============================] - 7s 8ms/step - loss: 0.0336 - accuracy: 0.9907\n",
      "Epoch 68/100\n",
      "885/885 [==============================] - 6s 7ms/step - loss: 0.0335 - accuracy: 0.9907\n",
      "Epoch 69/100\n",
      "885/885 [==============================] - 6s 7ms/step - loss: 0.0348 - accuracy: 0.9905\n",
      "Epoch 70/100\n",
      "885/885 [==============================] - 7s 8ms/step - loss: 0.0355 - accuracy: 0.9904\n",
      "Epoch 71/100\n",
      "885/885 [==============================] - 6s 7ms/step - loss: 0.0347 - accuracy: 0.9907\n",
      "Epoch 72/100\n",
      "885/885 [==============================] - 7s 8ms/step - loss: 0.0339 - accuracy: 0.9905\n",
      "Epoch 73/100\n",
      "885/885 [==============================] - 6s 7ms/step - loss: 0.0351 - accuracy: 0.9905\n",
      "Epoch 74/100\n",
      "885/885 [==============================] - 7s 8ms/step - loss: 0.0324 - accuracy: 0.9909\n",
      "Epoch 75/100\n",
      "885/885 [==============================] - 7s 8ms/step - loss: 0.0353 - accuracy: 0.9909\n",
      "Epoch 76/100\n",
      "885/885 [==============================] - 6s 7ms/step - loss: 0.0320 - accuracy: 0.9910\n",
      "Epoch 77/100\n",
      "885/885 [==============================] - 7s 8ms/step - loss: 0.0337 - accuracy: 0.9907\n",
      "Epoch 78/100\n",
      "885/885 [==============================] - 7s 8ms/step - loss: 0.0345 - accuracy: 0.9904\n",
      "Epoch 79/100\n",
      "885/885 [==============================] - 7s 8ms/step - loss: 0.0344 - accuracy: 0.9904\n",
      "Epoch 80/100\n",
      "885/885 [==============================] - 7s 7ms/step - loss: 0.0325 - accuracy: 0.9908\n",
      "Epoch 81/100\n",
      "885/885 [==============================] - 6s 7ms/step - loss: 0.0329 - accuracy: 0.9908\n",
      "Epoch 82/100\n",
      "885/885 [==============================] - 7s 7ms/step - loss: 0.0336 - accuracy: 0.9903\n",
      "Epoch 83/100\n",
      "885/885 [==============================] - 6s 7ms/step - loss: 0.0329 - accuracy: 0.9908\n",
      "Epoch 84/100\n",
      "885/885 [==============================] - 7s 7ms/step - loss: 0.0330 - accuracy: 0.9907\n",
      "Epoch 85/100\n",
      "885/885 [==============================] - 6s 7ms/step - loss: 0.0337 - accuracy: 0.9908\n",
      "Epoch 86/100\n",
      "885/885 [==============================] - 6s 7ms/step - loss: 0.0328 - accuracy: 0.9908\n",
      "Epoch 87/100\n",
      "885/885 [==============================] - 7s 8ms/step - loss: 0.0328 - accuracy: 0.9907\n",
      "Epoch 88/100\n",
      "885/885 [==============================] - 6s 7ms/step - loss: 0.0326 - accuracy: 0.9906\n",
      "Epoch 89/100\n",
      "885/885 [==============================] - 7s 7ms/step - loss: 0.0320 - accuracy: 0.9909\n",
      "Epoch 90/100\n",
      "885/885 [==============================] - 6s 7ms/step - loss: 0.0316 - accuracy: 0.9909\n",
      "Epoch 91/100\n",
      "885/885 [==============================] - 6s 7ms/step - loss: 0.0330 - accuracy: 0.9910\n",
      "Epoch 92/100\n",
      "885/885 [==============================] - 7s 7ms/step - loss: 0.0342 - accuracy: 0.9904\n",
      "Epoch 93/100\n",
      "885/885 [==============================] - 6s 7ms/step - loss: 0.0332 - accuracy: 0.9910\n",
      "Epoch 94/100\n",
      "885/885 [==============================] - 7s 7ms/step - loss: 0.0364 - accuracy: 0.9908\n",
      "Epoch 95/100\n",
      "885/885 [==============================] - 6s 7ms/step - loss: 0.0330 - accuracy: 0.9910\n",
      "Epoch 96/100\n",
      "885/885 [==============================] - 6s 7ms/step - loss: 0.0326 - accuracy: 0.9913\n",
      "Epoch 97/100\n",
      "885/885 [==============================] - 7s 8ms/step - loss: 0.0331 - accuracy: 0.9908\n",
      "Epoch 98/100\n",
      "885/885 [==============================] - 6s 7ms/step - loss: 0.0321 - accuracy: 0.9909\n",
      "Epoch 99/100\n",
      "885/885 [==============================] - 7s 8ms/step - loss: 0.0356 - accuracy: 0.9907\n",
      "Epoch 100/100\n",
      "885/885 [==============================] - 6s 7ms/step - loss: 0.0329 - accuracy: 0.9909\n"
     ]
    },
    {
     "data": {
      "text/plain": [
       "<keras.callbacks.History at 0x1af401be370>"
      ]
     },
     "execution_count": 40,
     "metadata": {},
     "output_type": "execute_result"
    }
   ],
   "source": [
    "# tf.keras.optimizers.Adam(\n",
    "#     learning_rate=0.001, beta_1=0.9, beta_2=0.999, epsilon=1e-07, amsgrad=False)\n",
    "# train_op = tf.keras.optimizers.adam(amsgrad=True)\n",
    "model.compile(optimizer ='adam',loss = 'sparse_categorical_crossentropy', metrics = ['accuracy'])\n",
    "#model.compile(optimizer ='adam',loss = 'categorical_crossentropy', metrics = ['accuracy'])\n",
    "model.fit(X_rfeDoS, Y_DoS, epochs = 100, batch_size = 128)"
   ]
  },
  {
   "cell_type": "code",
   "execution_count": 41,
   "metadata": {},
   "outputs": [],
   "source": [
    "pred = model.predict(X_rfeDoS)\n",
    "y_pred= np.argmax(pred, axis = 1)"
   ]
  },
  {
   "cell_type": "code",
   "execution_count": 42,
   "metadata": {},
   "outputs": [
    {
     "name": "stdout",
     "output_type": "stream",
     "text": [
      "[0 0 1 ... 0 1 0]\n"
     ]
    }
   ],
   "source": [
    "print(y_pred)"
   ]
  },
  {
   "cell_type": "code",
   "execution_count": 43,
   "metadata": {},
   "outputs": [],
   "source": [
    "from sklearn.metrics import confusion_matrix,accuracy_score\n",
    "from sklearn.metrics import (precision_score, recall_score,\n",
    "                             f1_score, accuracy_score,mean_squared_error,mean_absolute_error)"
   ]
  },
  {
   "cell_type": "code",
   "execution_count": 44,
   "metadata": {},
   "outputs": [
    {
     "data": {
      "text/plain": [
       "array([[66743,   600],\n",
       "       [   55, 45872]], dtype=int64)"
      ]
     },
     "execution_count": 44,
     "metadata": {},
     "output_type": "execute_result"
    }
   ],
   "source": [
    "confusion_matrix(Y_DoS, y_pred)"
   ]
  },
  {
   "cell_type": "code",
   "execution_count": 45,
   "metadata": {},
   "outputs": [
    {
     "data": {
      "image/png": "[encoded data removed]",
      "text/plain": [
       "<Figure size 432x288 with 1 Axes>"
      ]
     },
     "metadata": {},
     "output_type": "display_data"
    }
   ],
   "source": [
    "from matplotlib import pyplot as plt\n",
    "import seaborn as sns\n",
    "sns.set()\n",
    "class_names = ['normal', 'DOS']\n",
    "matrix = confusion_matrix(Y_DoS, y_pred)\n",
    "# Create pandas dataframe\n",
    "dataframe = pd.DataFrame(matrix, index=class_names, columns=class_names)\n",
    "# Create heatmap\n",
    "sns.heatmap(dataframe, annot=True, cbar=None, cmap=\"Blues\", fmt = 'g')\n",
    "plt.title(\"Confusion Matrix\"), plt.tight_layout()\n",
    "plt.ylabel(\"True Class\"), plt.xlabel(\"Predicted Class\")\n",
    "plt.show()"
   ]
  },
  {
   "cell_type": "code",
   "execution_count": 46,
   "metadata": {},
   "outputs": [
    {
     "name": "stdout",
     "output_type": "stream",
     "text": [
      "99.42173567581885\n"
     ]
    }
   ],
   "source": [
    "accuracy =accuracy_score(Y_DoS, y_pred)*100\n",
    "print(accuracy)"
   ]
  },
  {
   "cell_type": "code",
   "execution_count": 47,
   "metadata": {},
   "outputs": [],
   "source": [
    "X_rfeProbe = np.reshape(X_rfeProbe, (X_rfeProbe.shape[0], X_rfeProbe.shape[1], 1))\n",
    "Y_Probe = np.where(Y_Probe == 2, 1, Y_Probe)\n",
    "X_rfeR2L = np.reshape(X_rfeR2L, (X_rfeR2L.shape[0], X_rfeR2L.shape[1], 1))\n",
    "Y_R2L = np.where(Y_R2L == 3, 1, Y_R2L)\n",
    "X_rfeU2R = np.reshape(X_rfeU2R, (X_rfeU2R.shape[0], X_rfeU2R.shape[1], 1))\n",
    "Y_U2R = np.where(Y_U2R == 4, 1, Y_U2R)"
   ]
  },
  {
   "cell_type": "code",
   "execution_count": 48,
   "metadata": {},
   "outputs": [
    {
     "name": "stdout",
     "output_type": "stream",
     "text": [
      "Epoch 1/100\n",
      "618/618 [==============================] - 5s 7ms/step - loss: 0.1742 - accuracy: 0.9308\n",
      "Epoch 2/100\n",
      "618/618 [==============================] - 5s 7ms/step - loss: 0.1163 - accuracy: 0.9582\n",
      "Epoch 3/100\n",
      "618/618 [==============================] - 5s 8ms/step - loss: 0.1038 - accuracy: 0.9632\n",
      "Epoch 4/100\n",
      "618/618 [==============================] - 5s 8ms/step - loss: 0.0941 - accuracy: 0.9664\n",
      "Epoch 5/100\n",
      "618/618 [==============================] - 5s 7ms/step - loss: 0.0917 - accuracy: 0.9680\n",
      "Epoch 6/100\n",
      "618/618 [==============================] - 5s 8ms/step - loss: 0.0877 - accuracy: 0.9688\n",
      "Epoch 7/100\n",
      "618/618 [==============================] - 5s 8ms/step - loss: 0.0833 - accuracy: 0.9702\n",
      "Epoch 8/100\n",
      "618/618 [==============================] - ETA: 0s - loss: 0.0800 - accuracy: 0.97 - 4s 7ms/step - loss: 0.0800 - accuracy: 0.9709\n",
      "Epoch 9/100\n",
      "618/618 [==============================] - 5s 7ms/step - loss: 0.0784 - accuracy: 0.9716\n",
      "Epoch 10/100\n",
      "618/618 [==============================] - 5s 7ms/step - loss: 0.0771 - accuracy: 0.9726\n",
      "Epoch 11/100\n",
      "618/618 [==============================] - 5s 8ms/step - loss: 0.0775 - accuracy: 0.9719\n",
      "Epoch 12/100\n",
      "618/618 [==============================] - 5s 7ms/step - loss: 0.0752 - accuracy: 0.9728\n",
      "Epoch 13/100\n",
      "618/618 [==============================] - 5s 8ms/step - loss: 0.0765 - accuracy: 0.9723\n",
      "Epoch 14/100\n",
      "618/618 [==============================] - 5s 8ms/step - loss: 0.0740 - accuracy: 0.9731\n",
      "Epoch 15/100\n",
      "618/618 [==============================] - 5s 8ms/step - loss: 0.0728 - accuracy: 0.9729\n",
      "Epoch 16/100\n",
      "618/618 [==============================] - 5s 7ms/step - loss: 0.0751 - accuracy: 0.9733\n",
      "Epoch 17/100\n",
      "618/618 [==============================] - 5s 8ms/step - loss: 0.0722 - accuracy: 0.9739\n",
      "Epoch 18/100\n",
      "618/618 [==============================] - 5s 8ms/step - loss: 0.0749 - accuracy: 0.9742\n",
      "Epoch 19/100\n",
      "618/618 [==============================] - 5s 9ms/step - loss: 0.0707 - accuracy: 0.9741\n",
      "Epoch 20/100\n",
      "618/618 [==============================] - 5s 9ms/step - loss: 0.0714 - accuracy: 0.9744\n",
      "Epoch 21/100\n",
      "618/618 [==============================] - 5s 8ms/step - loss: 0.0685 - accuracy: 0.9744\n",
      "Epoch 22/100\n",
      "618/618 [==============================] - 5s 9ms/step - loss: 0.0703 - accuracy: 0.9750\n",
      "Epoch 23/100\n",
      "618/618 [==============================] - 5s 9ms/step - loss: 0.0685 - accuracy: 0.9752\n",
      "Epoch 24/100\n",
      "618/618 [==============================] - 5s 8ms/step - loss: 0.0675 - accuracy: 0.9756\n",
      "Epoch 25/100\n",
      "618/618 [==============================] - 5s 8ms/step - loss: 0.0669 - accuracy: 0.9762\n",
      "Epoch 26/100\n",
      "618/618 [==============================] - 6s 9ms/step - loss: 0.0676 - accuracy: 0.9758\n",
      "Epoch 27/100\n",
      "618/618 [==============================] - 5s 8ms/step - loss: 0.0663 - accuracy: 0.9760\n",
      "Epoch 28/100\n",
      "618/618 [==============================] - 5s 8ms/step - loss: 0.0658 - accuracy: 0.9765\n",
      "Epoch 29/100\n",
      "618/618 [==============================] - 5s 8ms/step - loss: 0.0656 - accuracy: 0.9764\n",
      "Epoch 30/100\n",
      "618/618 [==============================] - 5s 9ms/step - loss: 0.0656 - accuracy: 0.9764\n",
      "Epoch 31/100\n",
      "618/618 [==============================] - 5s 8ms/step - loss: 0.0711 - accuracy: 0.9767\n",
      "Epoch 32/100\n",
      "618/618 [==============================] - 5s 8ms/step - loss: 0.0643 - accuracy: 0.9765\n",
      "Epoch 33/100\n",
      "618/618 [==============================] - 5s 8ms/step - loss: 0.0655 - accuracy: 0.9772\n",
      "Epoch 34/100\n",
      "618/618 [==============================] - 5s 7ms/step - loss: 0.0648 - accuracy: 0.9771\n",
      "Epoch 35/100\n",
      "618/618 [==============================] - 5s 7ms/step - loss: 0.0634 - accuracy: 0.9774\n",
      "Epoch 36/100\n",
      "618/618 [==============================] - 5s 8ms/step - loss: 0.0647 - accuracy: 0.9772\n",
      "Epoch 37/100\n",
      "618/618 [==============================] - 4s 7ms/step - loss: 0.0636 - accuracy: 0.9773\n",
      "Epoch 38/100\n",
      "618/618 [==============================] - 5s 7ms/step - loss: 0.0629 - accuracy: 0.9774\n",
      "Epoch 39/100\n",
      "618/618 [==============================] - 5s 8ms/step - loss: 0.0735 - accuracy: 0.9771\n",
      "Epoch 40/100\n",
      "618/618 [==============================] - 5s 8ms/step - loss: 0.0624 - accuracy: 0.9773\n",
      "Epoch 41/100\n",
      "618/618 [==============================] - 5s 7ms/step - loss: 0.0630 - accuracy: 0.9773\n",
      "Epoch 42/100\n",
      "618/618 [==============================] - 5s 7ms/step - loss: 0.0615 - accuracy: 0.9776\n",
      "Epoch 43/100\n",
      "618/618 [==============================] - 5s 8ms/step - loss: 0.0626 - accuracy: 0.9776\n",
      "Epoch 44/100\n",
      "618/618 [==============================] - 5s 8ms/step - loss: 0.0612 - accuracy: 0.9781\n",
      "Epoch 45/100\n",
      "618/618 [==============================] - 5s 7ms/step - loss: 0.0627 - accuracy: 0.9778\n",
      "Epoch 46/100\n",
      "618/618 [==============================] - 5s 8ms/step - loss: 0.0606 - accuracy: 0.9782\n",
      "Epoch 47/100\n",
      "618/618 [==============================] - 5s 7ms/step - loss: 0.0624 - accuracy: 0.9778\n",
      "Epoch 48/100\n",
      "618/618 [==============================] - 5s 7ms/step - loss: 0.0612 - accuracy: 0.9784\n",
      "Epoch 49/100\n",
      "618/618 [==============================] - 5s 8ms/step - loss: 0.0617 - accuracy: 0.9781\n",
      "Epoch 50/100\n",
      "618/618 [==============================] - 5s 8ms/step - loss: 0.0621 - accuracy: 0.9786\n",
      "Epoch 51/100\n",
      "618/618 [==============================] - 5s 8ms/step - loss: 0.0604 - accuracy: 0.9781\n",
      "Epoch 52/100\n",
      "618/618 [==============================] - 5s 7ms/step - loss: 0.0611 - accuracy: 0.9782\n",
      "Epoch 53/100\n",
      "618/618 [==============================] - 5s 8ms/step - loss: 0.0608 - accuracy: 0.9779\n",
      "Epoch 54/100\n",
      "618/618 [==============================] - 4s 7ms/step - loss: 0.0604 - accuracy: 0.9782\n",
      "Epoch 55/100\n",
      "618/618 [==============================] - 4s 7ms/step - loss: 0.0595 - accuracy: 0.9788\n",
      "Epoch 56/100\n",
      "618/618 [==============================] - 5s 8ms/step - loss: 0.0608 - accuracy: 0.9779\n",
      "Epoch 57/100\n",
      "618/618 [==============================] - 5s 8ms/step - loss: 0.0605 - accuracy: 0.9781\n",
      "Epoch 58/100\n",
      "618/618 [==============================] - 4s 7ms/step - loss: 0.0614 - accuracy: 0.9781\n",
      "Epoch 59/100\n",
      "618/618 [==============================] - 4s 7ms/step - loss: 0.0617 - accuracy: 0.9779\n",
      "Epoch 60/100\n",
      "618/618 [==============================] - 5s 8ms/step - loss: 0.0599 - accuracy: 0.9782\n",
      "Epoch 61/100\n",
      "618/618 [==============================] - 5s 8ms/step - loss: 0.0611 - accuracy: 0.9785\n",
      "Epoch 62/100\n",
      "618/618 [==============================] - 5s 7ms/step - loss: 0.0599 - accuracy: 0.9782\n",
      "Epoch 63/100\n",
      "618/618 [==============================] - 5s 8ms/step - loss: 0.0599 - accuracy: 0.9789\n",
      "Epoch 64/100\n",
      "618/618 [==============================] - 5s 7ms/step - loss: 0.0594 - accuracy: 0.9788\n",
      "Epoch 65/100\n",
      "618/618 [==============================] - 5s 7ms/step - loss: 0.0599 - accuracy: 0.9784\n",
      "Epoch 66/100\n",
      "618/618 [==============================] - 4s 7ms/step - loss: 0.0596 - accuracy: 0.9783\n",
      "Epoch 67/100\n",
      "618/618 [==============================] - 5s 8ms/step - loss: 0.0611 - accuracy: 0.9784\n",
      "Epoch 68/100\n",
      "618/618 [==============================] - 5s 7ms/step - loss: 0.0605 - accuracy: 0.9783\n",
      "Epoch 69/100\n",
      "618/618 [==============================] - 4s 7ms/step - loss: 0.0625 - accuracy: 0.9779\n",
      "Epoch 70/100\n",
      "618/618 [==============================] - 5s 8ms/step - loss: 0.0591 - accuracy: 0.9786\n",
      "Epoch 71/100\n",
      "618/618 [==============================] - 5s 7ms/step - loss: 0.0594 - accuracy: 0.9783\n",
      "Epoch 72/100\n",
      "618/618 [==============================] - 4s 7ms/step - loss: 0.0612 - accuracy: 0.9792\n",
      "Epoch 73/100\n",
      "618/618 [==============================] - 4s 7ms/step - loss: 0.0582 - accuracy: 0.9793\n",
      "Epoch 74/100\n",
      "618/618 [==============================] - 5s 8ms/step - loss: 0.0607 - accuracy: 0.9787\n",
      "Epoch 75/100\n",
      "618/618 [==============================] - 5s 7ms/step - loss: 0.0594 - accuracy: 0.9789\n",
      "Epoch 76/100\n",
      "618/618 [==============================] - 5s 7ms/step - loss: 0.0606 - accuracy: 0.9785\n",
      "Epoch 77/100\n",
      "618/618 [==============================] - 5s 8ms/step - loss: 0.0588 - accuracy: 0.9791\n",
      "Epoch 78/100\n",
      "618/618 [==============================] - 5s 7ms/step - loss: 0.0588 - accuracy: 0.9784\n",
      "Epoch 79/100\n",
      "618/618 [==============================] - 5s 7ms/step - loss: 0.0595 - accuracy: 0.9791\n",
      "Epoch 80/100\n",
      "618/618 [==============================] - 5s 7ms/step - loss: 0.0605 - accuracy: 0.9787\n"
     ]
    },
    {
     "name": "stdout",
     "output_type": "stream",
     "text": [
      "Epoch 81/100\n",
      "618/618 [==============================] - 5s 8ms/step - loss: 0.0588 - accuracy: 0.9787\n",
      "Epoch 82/100\n",
      "618/618 [==============================] - 4s 7ms/step - loss: 0.0593 - accuracy: 0.9788\n",
      "Epoch 83/100\n",
      "618/618 [==============================] - 4s 7ms/step - loss: 0.0579 - accuracy: 0.9788\n",
      "Epoch 84/100\n",
      "618/618 [==============================] - 5s 8ms/step - loss: 0.0585 - accuracy: 0.9791\n",
      "Epoch 85/100\n",
      "618/618 [==============================] - 4s 7ms/step - loss: 0.0585 - accuracy: 0.9789\n",
      "Epoch 86/100\n",
      "618/618 [==============================] - 4s 7ms/step - loss: 0.0592 - accuracy: 0.9788\n",
      "Epoch 87/100\n",
      "618/618 [==============================] - 5s 7ms/step - loss: 0.0585 - accuracy: 0.9790\n",
      "Epoch 88/100\n",
      "618/618 [==============================] - 5s 8ms/step - loss: 0.0583 - accuracy: 0.9799\n",
      "Epoch 89/100\n",
      "618/618 [==============================] - 5s 8ms/step - loss: 0.0589 - accuracy: 0.9791\n",
      "Epoch 90/100\n",
      "618/618 [==============================] - 4s 7ms/step - loss: 0.0585 - accuracy: 0.9793\n",
      "Epoch 91/100\n",
      "618/618 [==============================] - 5s 8ms/step - loss: 0.0581 - accuracy: 0.9792\n",
      "Epoch 92/100\n",
      "618/618 [==============================] - 4s 7ms/step - loss: 0.0576 - accuracy: 0.9794\n",
      "Epoch 93/100\n",
      "618/618 [==============================] - 4s 7ms/step - loss: 0.0572 - accuracy: 0.9794\n",
      "Epoch 94/100\n",
      "618/618 [==============================] - 5s 7ms/step - loss: 0.0594 - accuracy: 0.9792\n",
      "Epoch 95/100\n",
      "618/618 [==============================] - 5s 8ms/step - loss: 0.0594 - accuracy: 0.9785\n",
      "Epoch 96/100\n",
      "618/618 [==============================] - 4s 7ms/step - loss: 0.0596 - accuracy: 0.9786\n",
      "Epoch 97/100\n",
      "618/618 [==============================] - 4s 7ms/step - loss: 0.0581 - accuracy: 0.9789\n",
      "Epoch 98/100\n",
      "618/618 [==============================] - 5s 8ms/step - loss: 0.0588 - accuracy: 0.9790\n",
      "Epoch 99/100\n",
      "618/618 [==============================] - 4s 7ms/step - loss: 0.0597 - accuracy: 0.9794\n",
      "Epoch 100/100\n",
      "618/618 [==============================] - 4s 7ms/step - loss: 0.0571 - accuracy: 0.9793\n"
     ]
    },
    {
     "data": {
      "text/plain": [
       "<keras.callbacks.History at 0x1af3fb4b640>"
      ]
     },
     "execution_count": 48,
     "metadata": {},
     "output_type": "execute_result"
    }
   ],
   "source": [
    "model.fit(X_rfeProbe, Y_Probe, epochs = 100, batch_size = 128)"
   ]
  },
  {
   "cell_type": "code",
   "execution_count": 49,
   "metadata": {},
   "outputs": [],
   "source": [
    "pred1 = model.predict(X_rfeProbe)\n",
    "y_pred1= np.argmax(pred1, axis = 1)"
   ]
  },
  {
   "cell_type": "code",
   "execution_count": 50,
   "metadata": {},
   "outputs": [
    {
     "name": "stdout",
     "output_type": "stream",
     "text": [
      "[0 0 0 ... 0 0 0]\n"
     ]
    }
   ],
   "source": [
    "print(y_pred1)"
   ]
  },
  {
   "cell_type": "code",
   "execution_count": 51,
   "metadata": {},
   "outputs": [
    {
     "data": {
      "text/plain": [
       "array([[66252,  1091],\n",
       "       [  182, 11474]], dtype=int64)"
      ]
     },
     "execution_count": 51,
     "metadata": {},
     "output_type": "execute_result"
    }
   ],
   "source": [
    "confusion_matrix(Y_Probe, y_pred1)"
   ]
  },
  {
   "cell_type": "code",
   "execution_count": 52,
   "metadata": {},
   "outputs": [
    {
     "data": {
      "image/png": "[encoded data removed]",
      "text/plain": [
       "<Figure size 432x288 with 1 Axes>"
      ]
     },
     "metadata": {},
     "output_type": "display_data"
    }
   ],
   "source": [
    "class_names = ['normal', 'Probe']\n",
    "matrix = confusion_matrix(Y_Probe, y_pred1)\n",
    "# Create pandas dataframe\n",
    "dataframe = pd.DataFrame(matrix, index=class_names, columns=class_names)\n",
    "# Create heatmap\n",
    "sns.heatmap(dataframe, annot=True, cbar=None, cmap=\"Blues\", fmt = 'g')\n",
    "plt.title(\"Confusion Matrix\"), plt.tight_layout()\n",
    "plt.ylabel(\"True Class\"), plt.xlabel(\"Predicted Class\")\n",
    "plt.show()"
   ]
  },
  {
   "cell_type": "code",
   "execution_count": 53,
   "metadata": {},
   "outputs": [
    {
     "name": "stdout",
     "output_type": "stream",
     "text": [
      "98.3885871973063\n"
     ]
    }
   ],
   "source": [
    "accuracy1=accuracy_score(Y_Probe, y_pred1)*100\n",
    "print(accuracy1)"
   ]
  },
  {
   "cell_type": "code",
   "execution_count": 54,
   "metadata": {},
   "outputs": [
    {
     "name": "stdout",
     "output_type": "stream",
     "text": [
      "Epoch 1/100\n",
      "534/534 [==============================] - 4s 8ms/step - loss: 0.0545 - accuracy: 0.9835\n",
      "Epoch 2/100\n",
      "534/534 [==============================] - 4s 7ms/step - loss: 0.0402 - accuracy: 0.9852\n",
      "Epoch 3/100\n",
      "534/534 [==============================] - 4s 7ms/step - loss: 0.0355 - accuracy: 0.9860\n",
      "Epoch 4/100\n",
      "534/534 [==============================] - 4s 7ms/step - loss: 0.0336 - accuracy: 0.9866\n",
      "Epoch 5/100\n",
      "534/534 [==============================] - 4s 8ms/step - loss: 0.0323 - accuracy: 0.9871\n",
      "Epoch 6/100\n",
      "534/534 [==============================] - 4s 7ms/step - loss: 0.0321 - accuracy: 0.9875\n",
      "Epoch 7/100\n",
      "534/534 [==============================] - 4s 8ms/step - loss: 0.0307 - accuracy: 0.9878\n",
      "Epoch 8/100\n",
      "534/534 [==============================] - 4s 7ms/step - loss: 0.0286 - accuracy: 0.9890\n",
      "Epoch 9/100\n",
      "534/534 [==============================] - 4s 8ms/step - loss: 0.0289 - accuracy: 0.9890\n",
      "Epoch 10/100\n",
      "534/534 [==============================] - 4s 7ms/step - loss: 0.0280 - accuracy: 0.9891\n",
      "Epoch 11/100\n",
      "534/534 [==============================] - 4s 8ms/step - loss: 0.0271 - accuracy: 0.9898\n",
      "Epoch 12/100\n",
      "534/534 [==============================] - 4s 8ms/step - loss: 0.0268 - accuracy: 0.9900\n",
      "Epoch 13/100\n",
      "534/534 [==============================] - 4s 8ms/step - loss: 0.0266 - accuracy: 0.9900\n",
      "Epoch 14/100\n",
      "534/534 [==============================] - 4s 7ms/step - loss: 0.0275 - accuracy: 0.9897\n",
      "Epoch 15/100\n",
      "534/534 [==============================] - 4s 7ms/step - loss: 0.0268 - accuracy: 0.9907\n",
      "Epoch 16/100\n",
      "534/534 [==============================] - 4s 8ms/step - loss: 0.0257 - accuracy: 0.9906\n",
      "Epoch 17/100\n",
      "534/534 [==============================] - 4s 7ms/step - loss: 0.0260 - accuracy: 0.9903\n",
      "Epoch 18/100\n",
      "534/534 [==============================] - 4s 7ms/step - loss: 0.0256 - accuracy: 0.9908\n",
      "Epoch 19/100\n",
      "534/534 [==============================] - 4s 7ms/step - loss: 0.0261 - accuracy: 0.9908\n",
      "Epoch 20/100\n",
      "534/534 [==============================] - 4s 7ms/step - loss: 0.0252 - accuracy: 0.9905\n",
      "Epoch 21/100\n",
      "534/534 [==============================] - ETA: 0s - loss: 0.0255 - accuracy: 0.99 - 4s 7ms/step - loss: 0.0255 - accuracy: 0.9908\n",
      "Epoch 22/100\n",
      "534/534 [==============================] - 4s 7ms/step - loss: 0.0246 - accuracy: 0.9905\n",
      "Epoch 23/100\n",
      "534/534 [==============================] - 4s 7ms/step - loss: 0.0271 - accuracy: 0.9907\n",
      "Epoch 24/100\n",
      "534/534 [==============================] - 4s 8ms/step - loss: 0.0246 - accuracy: 0.9910\n",
      "Epoch 25/100\n",
      "534/534 [==============================] - 4s 8ms/step - loss: 0.0252 - accuracy: 0.9909\n",
      "Epoch 26/100\n",
      "534/534 [==============================] - 4s 8ms/step - loss: 0.0244 - accuracy: 0.9907\n",
      "Epoch 27/100\n",
      "534/534 [==============================] - 4s 7ms/step - loss: 0.0246 - accuracy: 0.9908\n",
      "Epoch 28/100\n",
      "534/534 [==============================] - 4s 7ms/step - loss: 0.0241 - accuracy: 0.9909\n",
      "Epoch 29/100\n",
      "534/534 [==============================] - 4s 8ms/step - loss: 0.0242 - accuracy: 0.9912\n",
      "Epoch 30/100\n",
      "534/534 [==============================] - 4s 7ms/step - loss: 0.0235 - accuracy: 0.9912\n",
      "Epoch 31/100\n",
      "534/534 [==============================] - 4s 7ms/step - loss: 0.0232 - accuracy: 0.9915\n",
      "Epoch 32/100\n",
      "534/534 [==============================] - 4s 7ms/step - loss: 0.0234 - accuracy: 0.9916\n",
      "Epoch 33/100\n",
      "534/534 [==============================] - 4s 8ms/step - loss: 0.0246 - accuracy: 0.9912\n",
      "Epoch 34/100\n",
      "534/534 [==============================] - 4s 7ms/step - loss: 0.0242 - accuracy: 0.9915\n",
      "Epoch 35/100\n",
      "534/534 [==============================] - 4s 7ms/step - loss: 0.0248 - accuracy: 0.9914\n",
      "Epoch 36/100\n",
      "534/534 [==============================] - 4s 7ms/step - loss: 0.0236 - accuracy: 0.9915\n",
      "Epoch 37/100\n",
      "534/534 [==============================] - 4s 8ms/step - loss: 0.0239 - accuracy: 0.9915\n",
      "Epoch 38/100\n",
      "534/534 [==============================] - 4s 7ms/step - loss: 0.0229 - accuracy: 0.9917\n",
      "Epoch 39/100\n",
      "534/534 [==============================] - 4s 7ms/step - loss: 0.0226 - accuracy: 0.9916\n",
      "Epoch 40/100\n",
      "534/534 [==============================] - 4s 7ms/step - loss: 0.0249 - accuracy: 0.9915\n",
      "Epoch 41/100\n",
      "534/534 [==============================] - 4s 8ms/step - loss: 0.0230 - accuracy: 0.9916\n",
      "Epoch 42/100\n",
      "534/534 [==============================] - 4s 7ms/step - loss: 0.0228 - accuracy: 0.9921\n",
      "Epoch 43/100\n",
      "534/534 [==============================] - 4s 7ms/step - loss: 0.0241 - accuracy: 0.9918\n",
      "Epoch 44/100\n",
      "534/534 [==============================] - 4s 7ms/step - loss: 0.0237 - accuracy: 0.9917\n",
      "Epoch 45/100\n",
      "534/534 [==============================] - 4s 8ms/step - loss: 0.0225 - accuracy: 0.9919\n",
      "Epoch 46/100\n",
      "534/534 [==============================] - 4s 7ms/step - loss: 0.0234 - accuracy: 0.9917\n",
      "Epoch 47/100\n",
      "534/534 [==============================] - 4s 7ms/step - loss: 0.0247 - accuracy: 0.9917\n",
      "Epoch 48/100\n",
      "534/534 [==============================] - 4s 7ms/step - loss: 0.0233 - accuracy: 0.9920\n",
      "Epoch 49/100\n",
      "534/534 [==============================] - 4s 8ms/step - loss: 0.0219 - accuracy: 0.9920\n",
      "Epoch 50/100\n",
      "534/534 [==============================] - 4s 7ms/step - loss: 0.0227 - accuracy: 0.9920\n",
      "Epoch 51/100\n",
      "534/534 [==============================] - 4s 7ms/step - loss: 0.0226 - accuracy: 0.9922\n",
      "Epoch 52/100\n",
      "534/534 [==============================] - 4s 8ms/step - loss: 0.0231 - accuracy: 0.9922\n",
      "Epoch 53/100\n",
      "534/534 [==============================] - 4s 8ms/step - loss: 0.0218 - accuracy: 0.9921\n",
      "Epoch 54/100\n",
      "534/534 [==============================] - 4s 7ms/step - loss: 0.0236 - accuracy: 0.9918\n",
      "Epoch 55/100\n",
      "534/534 [==============================] - 4s 7ms/step - loss: 0.0227 - accuracy: 0.9924\n",
      "Epoch 56/100\n",
      "534/534 [==============================] - 4s 7ms/step - loss: 0.0225 - accuracy: 0.9921\n",
      "Epoch 57/100\n",
      "534/534 [==============================] - 4s 8ms/step - loss: 0.0215 - accuracy: 0.9923\n",
      "Epoch 58/100\n",
      "534/534 [==============================] - 4s 7ms/step - loss: 0.0214 - accuracy: 0.9924\n",
      "Epoch 59/100\n",
      "534/534 [==============================] - 4s 7ms/step - loss: 0.0217 - accuracy: 0.9922\n",
      "Epoch 60/100\n",
      "534/534 [==============================] - 4s 7ms/step - loss: 0.0223 - accuracy: 0.9923\n",
      "Epoch 61/100\n",
      "534/534 [==============================] - 4s 8ms/step - loss: 0.0220 - accuracy: 0.9925\n",
      "Epoch 62/100\n",
      "534/534 [==============================] - 4s 7ms/step - loss: 0.0212 - accuracy: 0.9926\n",
      "Epoch 63/100\n",
      "534/534 [==============================] - 4s 7ms/step - loss: 0.0226 - accuracy: 0.9925\n",
      "Epoch 64/100\n",
      "534/534 [==============================] - 4s 7ms/step - loss: 0.0210 - accuracy: 0.9930\n",
      "Epoch 65/100\n",
      "534/534 [==============================] - 4s 8ms/step - loss: 0.0209 - accuracy: 0.9927\n",
      "Epoch 66/100\n",
      "534/534 [==============================] - 4s 7ms/step - loss: 0.0210 - accuracy: 0.9927\n",
      "Epoch 67/100\n",
      "534/534 [==============================] - 4s 7ms/step - loss: 0.0218 - accuracy: 0.9926\n",
      "Epoch 68/100\n",
      "534/534 [==============================] - 4s 7ms/step - loss: 0.0232 - accuracy: 0.9926\n",
      "Epoch 69/100\n",
      "534/534 [==============================] - 4s 8ms/step - loss: 0.0216 - accuracy: 0.9921\n",
      "Epoch 70/100\n",
      "534/534 [==============================] - 4s 7ms/step - loss: 0.0215 - accuracy: 0.9925\n",
      "Epoch 71/100\n",
      "534/534 [==============================] - 4s 7ms/step - loss: 0.0216 - accuracy: 0.9931\n",
      "Epoch 72/100\n",
      "534/534 [==============================] - 4s 7ms/step - loss: 0.0211 - accuracy: 0.9926\n",
      "Epoch 73/100\n",
      "534/534 [==============================] - 4s 8ms/step - loss: 0.0222 - accuracy: 0.9926\n",
      "Epoch 74/100\n",
      "534/534 [==============================] - 4s 7ms/step - loss: 0.0221 - accuracy: 0.9924\n",
      "Epoch 75/100\n",
      "534/534 [==============================] - 4s 7ms/step - loss: 0.0217 - accuracy: 0.9927\n",
      "Epoch 76/100\n",
      "534/534 [==============================] - 4s 7ms/step - loss: 0.0216 - accuracy: 0.9929\n",
      "Epoch 77/100\n",
      "534/534 [==============================] - 4s 8ms/step - loss: 0.0226 - accuracy: 0.9929\n",
      "Epoch 78/100\n",
      "534/534 [==============================] - 4s 7ms/step - loss: 0.0233 - accuracy: 0.9925\n",
      "Epoch 79/100\n",
      "534/534 [==============================] - ETA: 0s - loss: 0.0215 - accuracy: 0.99 - 4s 7ms/step - loss: 0.0215 - accuracy: 0.9930\n",
      "Epoch 80/100\n",
      "534/534 [==============================] - 4s 7ms/step - loss: 0.0208 - accuracy: 0.9934\n",
      "Epoch 81/100\n",
      "534/534 [==============================] - 4s 8ms/step - loss: 0.0220 - accuracy: 0.9926\n",
      "Epoch 82/100\n",
      "534/534 [==============================] - 4s 7ms/step - loss: 0.0217 - accuracy: 0.9924\n",
      "Epoch 83/100\n",
      "534/534 [==============================] - 4s 7ms/step - loss: 0.0217 - accuracy: 0.9928\n",
      "Epoch 84/100\n",
      "534/534 [==============================] - 4s 7ms/step - loss: 0.0209 - accuracy: 0.9931\n",
      "Epoch 85/100\n",
      "534/534 [==============================] - 4s 8ms/step - loss: 0.0218 - accuracy: 0.9928\n",
      "Epoch 86/100\n",
      "534/534 [==============================] - 4s 7ms/step - loss: 0.0211 - accuracy: 0.9929\n",
      "Epoch 87/100\n",
      "534/534 [==============================] - 4s 7ms/step - loss: 0.0207 - accuracy: 0.9934\n",
      "Epoch 88/100\n",
      "534/534 [==============================] - 4s 7ms/step - loss: 0.0213 - accuracy: 0.9929\n",
      "Epoch 89/100\n",
      "534/534 [==============================] - 4s 8ms/step - loss: 0.0219 - accuracy: 0.9930\n",
      "Epoch 90/100\n",
      "534/534 [==============================] - 4s 7ms/step - loss: 0.0212 - accuracy: 0.9929\n",
      "Epoch 91/100\n",
      "534/534 [==============================] - 4s 7ms/step - loss: 0.0213 - accuracy: 0.9927\n",
      "Epoch 92/100\n",
      "534/534 [==============================] - 4s 7ms/step - loss: 0.0205 - accuracy: 0.9933\n",
      "Epoch 93/100\n",
      "534/534 [==============================] - 4s 8ms/step - loss: 0.0217 - accuracy: 0.9928\n",
      "Epoch 94/100\n",
      "534/534 [==============================] - 4s 7ms/step - loss: 0.0207 - accuracy: 0.9934\n",
      "Epoch 95/100\n",
      "534/534 [==============================] - 4s 7ms/step - loss: 0.0211 - accuracy: 0.9928\n",
      "Epoch 96/100\n",
      "534/534 [==============================] - 4s 7ms/step - loss: 0.0217 - accuracy: 0.9932\n",
      "Epoch 97/100\n",
      "534/534 [==============================] - 4s 8ms/step - loss: 0.0207 - accuracy: 0.9928\n",
      "Epoch 98/100\n",
      "534/534 [==============================] - 4s 7ms/step - loss: 0.0218 - accuracy: 0.9928\n",
      "Epoch 99/100\n",
      "534/534 [==============================] - 4s 7ms/step - loss: 0.0216 - accuracy: 0.9930\n",
      "Epoch 100/100\n",
      "534/534 [==============================] - 4s 7ms/step - loss: 0.0211 - accuracy: 0.9933\n"
     ]
    },
    {
     "data": {
      "text/plain": [
       "<keras.callbacks.History at 0x1af42bc2940>"
      ]
     },
     "execution_count": 54,
     "metadata": {},
     "output_type": "execute_result"
    }
   ],
   "source": [
    "model.fit(X_rfeR2L, Y_R2L, epochs = 100, batch_size = 128)"
   ]
  },
  {
   "cell_type": "code",
   "execution_count": 55,
   "metadata": {},
   "outputs": [],
   "source": [
    "pred2 = model.predict(X_rfeR2L)\n",
    "y_pred2= np.argmax(pred2, axis = 1)"
   ]
  },
  {
   "cell_type": "code",
   "execution_count": 56,
   "metadata": {},
   "outputs": [
    {
     "name": "stdout",
     "output_type": "stream",
     "text": [
      "[0 0 0 ... 0 0 0]\n"
     ]
    }
   ],
   "source": [
    "print(y_pred2)"
   ]
  },
  {
   "cell_type": "code",
   "execution_count": 57,
   "metadata": {},
   "outputs": [
    {
     "data": {
      "text/plain": [
       "array([[67267,    76],\n",
       "       [  248,   747]], dtype=int64)"
      ]
     },
     "execution_count": 57,
     "metadata": {},
     "output_type": "execute_result"
    }
   ],
   "source": [
    "confusion_matrix(Y_R2L, y_pred2)"
   ]
  },
  {
   "cell_type": "code",
   "execution_count": 58,
   "metadata": {},
   "outputs": [
    {
     "data": {
      "image/png": "[encoded data removed]",
      "text/plain": [
       "<Figure size 432x288 with 1 Axes>"
      ]
     },
     "metadata": {},
     "output_type": "display_data"
    }
   ],
   "source": [
    "class_names = ['normal', 'R2L']\n",
    "matrix = confusion_matrix(Y_R2L, y_pred2)\n",
    "# Create pandas dataframe\n",
    "dataframe = pd.DataFrame(matrix, index=class_names, columns=class_names)\n",
    "# Create heatmap\n",
    "sns.heatmap(dataframe, annot=True, cbar=None, cmap=\"Blues\", fmt = 'g')\n",
    "plt.title(\"Confusion Matrix\"), plt.tight_layout()\n",
    "plt.ylabel(\"True Class\"), plt.xlabel(\"Predicted Class\")\n",
    "plt.show()"
   ]
  },
  {
   "cell_type": "code",
   "execution_count": 59,
   "metadata": {},
   "outputs": [
    {
     "name": "stdout",
     "output_type": "stream",
     "text": [
      "99.52588603705112\n"
     ]
    }
   ],
   "source": [
    "accuracy2=accuracy_score(Y_R2L, y_pred2)*100\n",
    "print(accuracy2)"
   ]
  },
  {
   "cell_type": "code",
   "execution_count": 60,
   "metadata": {},
   "outputs": [
    {
     "name": "stdout",
     "output_type": "stream",
     "text": [
      "Epoch 1/100\n",
      "527/527 [==============================] - 4s 7ms/step - loss: 0.0075 - accuracy: 0.9986\n",
      "Epoch 2/100\n",
      "527/527 [==============================] - 4s 7ms/step - loss: 0.0058 - accuracy: 0.9992\n",
      "Epoch 3/100\n",
      "527/527 [==============================] - 4s 7ms/step - loss: 0.0053 - accuracy: 0.9992\n",
      "Epoch 4/100\n",
      "527/527 [==============================] - 4s 7ms/step - loss: 0.0055 - accuracy: 0.9992\n",
      "Epoch 5/100\n",
      "527/527 [==============================] - 4s 8ms/step - loss: 0.0055 - accuracy: 0.9992\n",
      "Epoch 6/100\n",
      "527/527 [==============================] - 4s 7ms/step - loss: 0.0052 - accuracy: 0.9992\n",
      "Epoch 7/100\n",
      "527/527 [==============================] - 4s 7ms/step - loss: 0.0050 - accuracy: 0.9992\n",
      "Epoch 8/100\n",
      "527/527 [==============================] - 4s 7ms/step - loss: 0.0048 - accuracy: 0.9992\n",
      "Epoch 9/100\n",
      "527/527 [==============================] - 4s 8ms/step - loss: 0.0048 - accuracy: 0.9992\n",
      "Epoch 10/100\n",
      "527/527 [==============================] - 4s 7ms/step - loss: 0.0050 - accuracy: 0.9992\n",
      "Epoch 11/100\n",
      "527/527 [==============================] - 4s 7ms/step - loss: 0.0049 - accuracy: 0.9992\n",
      "Epoch 12/100\n",
      "527/527 [==============================] - 4s 7ms/step - loss: 0.0048 - accuracy: 0.9992\n",
      "Epoch 13/100\n",
      "527/527 [==============================] - 4s 8ms/step - loss: 0.0048 - accuracy: 0.9992\n",
      "Epoch 14/100\n",
      "527/527 [==============================] - 4s 7ms/step - loss: 0.0045 - accuracy: 0.9992\n",
      "Epoch 15/100\n",
      "527/527 [==============================] - 4s 7ms/step - loss: 0.0047 - accuracy: 0.9992\n",
      "Epoch 16/100\n",
      "527/527 [==============================] - 4s 7ms/step - loss: 0.0047 - accuracy: 0.9992\n",
      "Epoch 17/100\n",
      "527/527 [==============================] - 4s 8ms/step - loss: 0.0058 - accuracy: 0.9992\n",
      "Epoch 18/100\n",
      "527/527 [==============================] - 4s 7ms/step - loss: 0.0049 - accuracy: 0.9992\n",
      "Epoch 19/100\n",
      "527/527 [==============================] - 4s 7ms/step - loss: 0.0046 - accuracy: 0.9992\n",
      "Epoch 20/100\n",
      "527/527 [==============================] - 4s 7ms/step - loss: 0.0047 - accuracy: 0.9992\n",
      "Epoch 21/100\n",
      "527/527 [==============================] - 4s 8ms/step - loss: 0.0052 - accuracy: 0.9992\n",
      "Epoch 22/100\n",
      "527/527 [==============================] - 4s 7ms/step - loss: 0.0047 - accuracy: 0.9992\n",
      "Epoch 23/100\n",
      "527/527 [==============================] - 4s 7ms/step - loss: 0.0050 - accuracy: 0.9992\n",
      "Epoch 24/100\n",
      "527/527 [==============================] - 4s 7ms/step - loss: 0.0052 - accuracy: 0.9992\n",
      "Epoch 25/100\n",
      "527/527 [==============================] - 4s 7ms/step - loss: 0.0043 - accuracy: 0.9992\n",
      "Epoch 26/100\n",
      "527/527 [==============================] - 4s 8ms/step - loss: 0.0047 - accuracy: 0.9992\n",
      "Epoch 27/100\n",
      "527/527 [==============================] - 4s 8ms/step - loss: 0.0050 - accuracy: 0.9992\n",
      "Epoch 28/100\n",
      "527/527 [==============================] - 4s 8ms/step - loss: 0.0054 - accuracy: 0.9992\n",
      "Epoch 29/100\n",
      "527/527 [==============================] - 4s 7ms/step - loss: 0.0051 - accuracy: 0.9992\n",
      "Epoch 30/100\n",
      "527/527 [==============================] - 4s 8ms/step - loss: 0.0043 - accuracy: 0.9992\n",
      "Epoch 31/100\n",
      "527/527 [==============================] - 4s 7ms/step - loss: 0.0043 - accuracy: 0.9992\n",
      "Epoch 32/100\n",
      "527/527 [==============================] - 4s 7ms/step - loss: 0.0043 - accuracy: 0.9992\n",
      "Epoch 33/100\n",
      "527/527 [==============================] - 4s 7ms/step - loss: 0.0053 - accuracy: 0.9992\n",
      "Epoch 34/100\n",
      "527/527 [==============================] - 4s 8ms/step - loss: 0.0049 - accuracy: 0.9992\n",
      "Epoch 35/100\n",
      "527/527 [==============================] - 4s 7ms/step - loss: 0.0048 - accuracy: 0.9992\n",
      "Epoch 36/100\n",
      "527/527 [==============================] - 4s 7ms/step - loss: 0.0049 - accuracy: 0.9992\n",
      "Epoch 37/100\n",
      "527/527 [==============================] - 4s 7ms/step - loss: 0.0043 - accuracy: 0.9992\n",
      "Epoch 38/100\n",
      "527/527 [==============================] - 4s 8ms/step - loss: 0.0050 - accuracy: 0.9992\n",
      "Epoch 39/100\n",
      "527/527 [==============================] - 4s 7ms/step - loss: 0.0044 - accuracy: 0.9992\n",
      "Epoch 40/100\n",
      "527/527 [==============================] - 4s 7ms/step - loss: 0.0046 - accuracy: 0.9992\n",
      "Epoch 41/100\n",
      "527/527 [==============================] - 4s 7ms/step - loss: 0.0043 - accuracy: 0.9992\n",
      "Epoch 42/100\n",
      "527/527 [==============================] - 4s 8ms/step - loss: 0.0046 - accuracy: 0.9992\n",
      "Epoch 43/100\n",
      "527/527 [==============================] - 4s 7ms/step - loss: 0.0046 - accuracy: 0.9992\n",
      "Epoch 44/100\n",
      "527/527 [==============================] - 4s 7ms/step - loss: 0.0051 - accuracy: 0.9992\n",
      "Epoch 45/100\n",
      "527/527 [==============================] - 4s 7ms/step - loss: 0.0048 - accuracy: 0.9992\n",
      "Epoch 46/100\n",
      "527/527 [==============================] - 4s 8ms/step - loss: 0.0045 - accuracy: 0.9992\n",
      "Epoch 47/100\n",
      "527/527 [==============================] - 4s 7ms/step - loss: 0.0047 - accuracy: 0.9992\n",
      "Epoch 48/100\n",
      "527/527 [==============================] - 4s 7ms/step - loss: 0.0045 - accuracy: 0.9992\n",
      "Epoch 49/100\n",
      "527/527 [==============================] - 4s 7ms/step - loss: 0.0040 - accuracy: 0.9992\n",
      "Epoch 50/100\n",
      "527/527 [==============================] - 4s 8ms/step - loss: 0.0047 - accuracy: 0.9992\n",
      "Epoch 51/100\n",
      "527/527 [==============================] - 4s 7ms/step - loss: 0.0046 - accuracy: 0.9992\n",
      "Epoch 52/100\n",
      "527/527 [==============================] - 4s 7ms/step - loss: 0.0047 - accuracy: 0.9992\n",
      "Epoch 53/100\n",
      "527/527 [==============================] - 4s 7ms/step - loss: 0.0049 - accuracy: 0.9992\n",
      "Epoch 54/100\n",
      "527/527 [==============================] - 4s 8ms/step - loss: 0.0048 - accuracy: 0.9992\n",
      "Epoch 55/100\n",
      "527/527 [==============================] - 4s 7ms/step - loss: 0.0050 - accuracy: 0.9992\n",
      "Epoch 56/100\n",
      "527/527 [==============================] - 4s 7ms/step - loss: 0.0045 - accuracy: 0.9992\n",
      "Epoch 57/100\n",
      "527/527 [==============================] - 4s 7ms/step - loss: 0.0049 - accuracy: 0.9992\n",
      "Epoch 58/100\n",
      "527/527 [==============================] - 4s 8ms/step - loss: 0.0052 - accuracy: 0.9992\n",
      "Epoch 59/100\n",
      "527/527 [==============================] - 4s 7ms/step - loss: 0.0043 - accuracy: 0.9992\n",
      "Epoch 60/100\n",
      "527/527 [==============================] - 4s 7ms/step - loss: 0.0058 - accuracy: 0.9992\n",
      "Epoch 61/100\n",
      "527/527 [==============================] - 4s 7ms/step - loss: 0.0046 - accuracy: 0.9992\n",
      "Epoch 62/100\n",
      "527/527 [==============================] - 4s 8ms/step - loss: 0.0053 - accuracy: 0.9992\n",
      "Epoch 63/100\n",
      "527/527 [==============================] - 4s 7ms/step - loss: 0.0051 - accuracy: 0.9992\n",
      "Epoch 64/100\n",
      "527/527 [==============================] - 4s 7ms/step - loss: 0.0047 - accuracy: 0.9992\n",
      "Epoch 65/100\n",
      "527/527 [==============================] - 4s 7ms/step - loss: 0.0044 - accuracy: 0.9992\n",
      "Epoch 66/100\n",
      "527/527 [==============================] - 4s 8ms/step - loss: 0.0041 - accuracy: 0.9993\n",
      "Epoch 67/100\n",
      "527/527 [==============================] - 4s 7ms/step - loss: 0.0042 - accuracy: 0.9992\n",
      "Epoch 68/100\n",
      "527/527 [==============================] - 4s 7ms/step - loss: 0.0051 - accuracy: 0.9992\n",
      "Epoch 69/100\n",
      "527/527 [==============================] - 4s 7ms/step - loss: 0.0047 - accuracy: 0.9992\n",
      "Epoch 70/100\n",
      "527/527 [==============================] - 4s 8ms/step - loss: 0.0043 - accuracy: 0.9992\n",
      "Epoch 71/100\n",
      "527/527 [==============================] - 4s 8ms/step - loss: 0.0050 - accuracy: 0.9992\n",
      "Epoch 72/100\n",
      "527/527 [==============================] - 4s 7ms/step - loss: 0.0045 - accuracy: 0.9992\n",
      "Epoch 73/100\n",
      "527/527 [==============================] - 4s 7ms/step - loss: 0.0043 - accuracy: 0.9992\n",
      "Epoch 74/100\n",
      "527/527 [==============================] - 4s 7ms/step - loss: 0.0068 - accuracy: 0.9992\n",
      "Epoch 75/100\n",
      "527/527 [==============================] - 4s 8ms/step - loss: 0.0046 - accuracy: 0.9993\n",
      "Epoch 76/100\n",
      "527/527 [==============================] - 4s 7ms/step - loss: 0.0045 - accuracy: 0.9992\n",
      "Epoch 77/100\n",
      "527/527 [==============================] - 4s 7ms/step - loss: 0.0047 - accuracy: 0.9992\n",
      "Epoch 78/100\n",
      "527/527 [==============================] - 4s 7ms/step - loss: 0.0044 - accuracy: 0.9992\n",
      "Epoch 79/100\n",
      "527/527 [==============================] - 4s 8ms/step - loss: 0.0047 - accuracy: 0.9992\n",
      "Epoch 80/100\n",
      "527/527 [==============================] - 4s 7ms/step - loss: 0.0046 - accuracy: 0.9992\n",
      "Epoch 81/100\n",
      "527/527 [==============================] - 4s 7ms/step - loss: 0.0048 - accuracy: 0.9992\n",
      "Epoch 82/100\n",
      "527/527 [==============================] - 4s 7ms/step - loss: 0.0043 - accuracy: 0.9992\n",
      "Epoch 83/100\n",
      "527/527 [==============================] - 4s 8ms/step - loss: 0.0044 - accuracy: 0.9992\n",
      "Epoch 84/100\n",
      "527/527 [==============================] - 4s 7ms/step - loss: 0.0054 - accuracy: 0.9992\n",
      "Epoch 85/100\n",
      "527/527 [==============================] - 4s 7ms/step - loss: 0.0045 - accuracy: 0.9992\n",
      "Epoch 86/100\n",
      "527/527 [==============================] - 4s 8ms/step - loss: 0.0042 - accuracy: 0.9992\n",
      "Epoch 87/100\n",
      "527/527 [==============================] - 4s 8ms/step - loss: 0.0042 - accuracy: 0.9992\n",
      "Epoch 88/100\n",
      "527/527 [==============================] - 4s 7ms/step - loss: 0.0044 - accuracy: 0.9992\n",
      "Epoch 89/100\n",
      "527/527 [==============================] - 4s 7ms/step - loss: 0.0049 - accuracy: 0.9992\n",
      "Epoch 90/100\n",
      "527/527 [==============================] - 4s 7ms/step - loss: 0.0043 - accuracy: 0.9992\n",
      "Epoch 91/100\n",
      "527/527 [==============================] - 4s 8ms/step - loss: 0.0044 - accuracy: 0.9992\n",
      "Epoch 92/100\n",
      "527/527 [==============================] - 4s 7ms/step - loss: 0.0041 - accuracy: 0.9992\n",
      "Epoch 93/100\n",
      "527/527 [==============================] - 4s 7ms/step - loss: 0.0049 - accuracy: 0.9992\n",
      "Epoch 94/100\n",
      "527/527 [==============================] - 4s 7ms/step - loss: 0.0046 - accuracy: 0.9993\n",
      "Epoch 95/100\n",
      "527/527 [==============================] - 4s 8ms/step - loss: 0.0051 - accuracy: 0.9992\n",
      "Epoch 96/100\n",
      "527/527 [==============================] - 4s 7ms/step - loss: 0.0044 - accuracy: 0.9992\n",
      "Epoch 97/100\n",
      "527/527 [==============================] - 4s 8ms/step - loss: 0.0041 - accuracy: 0.9992\n",
      "Epoch 98/100\n",
      "527/527 [==============================] - 4s 7ms/step - loss: 0.0045 - accuracy: 0.9992\n",
      "Epoch 99/100\n",
      "527/527 [==============================] - 4s 8ms/step - loss: 0.0047 - accuracy: 0.9992\n",
      "Epoch 100/100\n",
      "527/527 [==============================] - 4s 7ms/step - loss: 0.0048 - accuracy: 0.9992\n"
     ]
    },
    {
     "data": {
      "text/plain": [
       "<keras.callbacks.History at 0x1af42bc2e80>"
      ]
     },
     "execution_count": 60,
     "metadata": {},
     "output_type": "execute_result"
    }
   ],
   "source": [
    "model.fit(X_rfeU2R, Y_U2R, epochs = 100, batch_size = 128)"
   ]
  },
  {
   "cell_type": "code",
   "execution_count": 61,
   "metadata": {},
   "outputs": [],
   "source": [
    "pred3 = model.predict(X_rfeU2R)\n",
    "y_pred3= np.argmax(pred3, axis = 1)"
   ]
  },
  {
   "cell_type": "code",
   "execution_count": 62,
   "metadata": {},
   "outputs": [
    {
     "name": "stdout",
     "output_type": "stream",
     "text": [
      "[0 0 0 ... 0 0 0]\n"
     ]
    }
   ],
   "source": [
    "print(y_pred3)"
   ]
  },
  {
   "cell_type": "code",
   "execution_count": 63,
   "metadata": {},
   "outputs": [
    {
     "data": {
      "text/plain": [
       "array([[67343,     0],\n",
       "       [   52,     0]], dtype=int64)"
      ]
     },
     "execution_count": 63,
     "metadata": {},
     "output_type": "execute_result"
    }
   ],
   "source": [
    "confusion_matrix(Y_U2R, y_pred3)"
   ]
  },
  {
   "cell_type": "code",
   "execution_count": 64,
   "metadata": {},
   "outputs": [
    {
     "data": {
      "image/png": "[encoded data removed]",
      "text/plain": [
       "<Figure size 432x288 with 1 Axes>"
      ]
     },
     "metadata": {},
     "output_type": "display_data"
    }
   ],
   "source": [
    "class_names = ['normal', 'U2R']\n",
    "matrix = confusion_matrix(Y_U2R, y_pred3)\n",
    "# Create pandas dataframe\n",
    "dataframe = pd.DataFrame(matrix, index=class_names, columns=class_names)\n",
    "# Create heatmap\n",
    "sns.heatmap(dataframe, annot=True, cbar=None, cmap=\"Blues\", fmt = 'g')\n",
    "plt.title(\"Confusion Matrix\"), plt.tight_layout()\n",
    "plt.ylabel(\"True Class\"), plt.xlabel(\"Predicted Class\")\n",
    "plt.show()"
   ]
  },
  {
   "cell_type": "code",
   "execution_count": 65,
   "metadata": {},
   "outputs": [
    {
     "name": "stdout",
     "output_type": "stream",
     "text": [
      "99.92284294087098\n"
     ]
    }
   ],
   "source": [
    "accuracy3=accuracy_score(Y_U2R, y_pred3)*100\n",
    "print(accuracy3)"
   ]
  }
 ],
 "metadata": {
  "kernelspec": {
   "display_name": "Python 3",
   "language": "python",
   "name": "python3"
  },
  "language_info": {
   "codemirror_mode": {
    "name": "ipython",
    "version": 3
   },
   "file_extension": ".py",
   "mimetype": "text/x-python",
   "name": "python",
   "nbconvert_exporter": "python",
   "pygments_lexer": "ipython3",
   "version": "3.8.8"
  }
 },
 "nbformat": 4,
 "nbformat_minor": 4
}

{
 "cells": [
  {
   "cell_type": "code",
   "execution_count": 1,
   "id": "09e4e8a7",
   "metadata": {},
   "outputs": [
    {
     "data": {
      "image/png": "[encoded data removed]",
      "text/plain": [
       "<Figure size 432x288 with 1 Axes>"
      ]
     },
     "metadata": {
      "needs_background": "light"
     },
     "output_type": "display_data"
    }
   ],
   "source": [
    "from matplotlib import pyplot as plt\n",
    "# x-coordinates of left sides of bars  \n",
    "left = [1,2,3,4] \n",
    "  \n",
    "# heights of bars \n",
    "height = [99.42, 98.38,99.52,99.92] \n",
    "  \n",
    "# labels for bars \n",
    "tick_label = ['DOS','Probe','R2L','U2R'] \n",
    "  \n",
    "# plotting a bar chart \n",
    "plt.bar(left, height, tick_label = tick_label, \n",
    "        width = 0.8, color = [ 'green','red','blue','yellow']) \n",
    "  \n",
    "# naming the x-axis \n",
    "plt.xlabel('Algorithms') \n",
    "# naming the y-axis \n",
    "plt.ylabel('Accuracy in %') \n",
    "# plot title \n",
    "plt.title('Performance Comparison') \n",
    "  \n",
    "# function to show the plot \n",
    "plt.rcParams['figure.figsize'] = (450,400)\n",
    "plt.show()"
   ]
  },
  {
   "cell_type": "code",
   "execution_count": null,
   "id": "2696b097",
   "metadata": {},
   "outputs": [],
   "source": []
  }
 ],
 "metadata": {
  "kernelspec": {
   "display_name": "Python 3",
   "language": "python",
   "name": "python3"
  },
  "language_info": {
   "codemirror_mode": {
    "name": "ipython",
    "version": 3
   },
   "file_extension": ".py",
   "mimetype": "text/x-python",
   "name": "python",
   "nbconvert_exporter": "python",
   "pygments_lexer": "ipython3",
   "version": "3.8.8"
  }
 },
 "nbformat": 4,
 "nbformat_minor": 5
}
